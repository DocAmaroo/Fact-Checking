{
  "nbformat": 4,
  "nbformat_minor": 0,
  "metadata": {
    "kernelspec": {
      "display_name": "Python 3",
      "language": "python",
      "name": "python3"
    },
    "language_info": {
      "codemirror_mode": {
        "name": "ipython",
        "version": 3
      },
      "file_extension": ".py",
      "mimetype": "text/x-python",
      "name": "python",
      "nbconvert_exporter": "python",
      "pygments_lexer": "ipython3",
      "version": "3.7.6"
    },
    "colab": {
      "name": "HMIN232 - Projet Fact-Checking.ipynb",
      "provenance": [],
      "collapsed_sections": [
        "R4_tXc1kz8iv",
        "-vGwSe8W4Rke",
        "-cO0qKAP4Rkg",
        "uVhuKs1pAnXN",
        "5ILrDeqF14zq",
        "Dn3DiOXXPNE1",
        "rkxYnGRJHZF0",
        "twn7TI9Y4Rkh",
        "vKHMdEr74Rkh",
        "WnX5hhEfpGf9",
        "SqKz-Oa6PmA6",
        "XkwZupJ-4Rkn",
        "UyKgK5voKGTS",
        "OitZ2z404Rko",
        "_nYtEObbM6NH",
        "sRu4nSQqhvok",
        "y1KzcRrShy9i",
        "cyvtKl9bh15a",
        "IpTYkLCmGbTS",
        "lj9RSHoG7-Vg",
        "TR14vQn_-O77",
        "uxw7cO-SmOe8",
        "wU_Ie1Jzlk1e",
        "5HPBpiZuK2v5",
        "Rd8UkVNkYq8Z",
        "X-i94C7Ii5Mh",
        "cy9uGCabtxOm",
        "W3mvcSB94w-2",
        "UzMHPIJY99In",
        "rVEadwuuW48l",
        "RwBDrQ-3fuio",
        "uCIdrXIuBX6I"
      ]
    }
  },
  "cells": [
    {
      "cell_type": "markdown",
      "metadata": {
        "ExecuteTime": {
          "end_time": "2020-03-05T12:04:01.439056Z",
          "start_time": "2020-03-05T12:04:01.435085Z"
        },
        "id": "FeldCx5f4RkZ"
      },
      "source": [
        "# Projet Data Science\n",
        "\n",
        "Ce projet a pour but de proposer des modèles de classification supervisée d'assertions faites par des figures politique selon leurs veracités. Autrement dit, nous devons proposer une approche automatique de fact-checking.\n",
        "    \n",
        "## Auteurs\n",
        "\n",
        "👨‍🎓 CANTA Thomas (thomas.canta@etu.umontpellier.fr)  \n",
        "👨‍🎓 DESGENETEZ Charles (charles.desgenetez@etu.umontpellier.fr)  \n",
        "👨‍🎓 FONTAINE Quentin (quentin.fontaine02@etu.umontpellier.fr)  \n",
        "👨‍🎓 REITER Maxime (maxime.reiter@etu.umontpellier.fr)  \n",
        "\n",
        "Ce projet est réalisé dans le cadre de l'UE HMIN232M du Master 1 AIGLE de l'université de Montpellier, année 2020/2021."
      ]
    },
    {
      "cell_type": "markdown",
      "metadata": {
        "id": "R4_tXc1kz8iv"
      },
      "source": [
        "# 0 - Mise en place de Google Drive et de fonctions\n",
        "\n",
        "Le bout de code ci-dessous est optionnelle et permet de se connecter à notre google drive afin d'accéder aux données à traiter. Vous pourrez dans l'étape suivante choisir une méthode local si vous le souhaiter."
      ]
    },
    {
      "cell_type": "code",
      "metadata": {
        "id": "Q4B3c5qB0J48",
        "colab": {
          "base_uri": "https://localhost:8080/"
        },
        "outputId": "6bed4b9d-9fa2-4d24-e47c-bda3f5d07836"
      },
      "source": [
        "from google.colab import drive\n",
        "drive.mount('/content/drive')"
      ],
      "execution_count": 47,
      "outputs": [
        {
          "output_type": "stream",
          "text": [
            "Drive already mounted at /content/drive; to attempt to forcibly remount, call drive.mount(\"/content/drive\", force_remount=True).\n"
          ],
          "name": "stdout"
        }
      ]
    },
    {
      "cell_type": "markdown",
      "metadata": {
        "id": "xtLge4Juz--a"
      },
      "source": [
        "Initialisation de fonctions globales qui serviront tout le long de notre étude."
      ]
    },
    {
      "cell_type": "code",
      "metadata": {
        "id": "hPoEdc_fsgzp"
      },
      "source": [
        "import seaborn as sn\n",
        "import matplotlib.pyplot as plt\n",
        "\n",
        "def display_barplot(df, title, x, xlabel, y, ylabel, orient):\n",
        "  \"\"\"\n",
        "  Display a barplot\n",
        "  @param df, the dataframe\n",
        "  @param title, the title of the figure\n",
        "  @param x, the x axe values\n",
        "  @param xlabel, the x axe label\n",
        "  @param y, the y axe values\n",
        "  @param ylabel, the y axe label\n",
        "  @param orient, the barplot orientation (h || v)\n",
        "  \"\"\"\n",
        "  \n",
        "  # --- Colors\n",
        "  colors = sn.color_palette('Reds_d', n_colors=len(df))\n",
        "\n",
        "  # --- Barplot\n",
        "  plt.figure(figsize=(15,5))\n",
        "  g = sn.barplot(x=x, y=y,\n",
        "             palette = colors,\n",
        "             data=df, \n",
        "             orient=orient)\n",
        "\n",
        "  # --- Annotations\n",
        "  for p in g.patches:\n",
        "    if orient == 'v':\n",
        "      g.annotate('{:.2f}'.format(\n",
        "          p.get_height()), \n",
        "          (p.get_x()+0.4, p.get_height()),\n",
        "          ha='center', va='bottom',\n",
        "          color= 'black')\n",
        "    else:\n",
        "      g.annotate('{:.2f}'.format(\n",
        "          p.get_width()), \n",
        "          (p.get_width()+0.02, p.get_y()+0.4),\n",
        "          ha='left', va='center',\n",
        "          color='black')\n",
        "    \n",
        "  # --- Cosmetic\n",
        "  plt.title(title, size=18)\n",
        "  plt.xlabel(xlabel, size=15)\n",
        "  plt.ylabel(ylabel, size=15)\n",
        "  sn.despine()\n",
        "\n",
        "def to_percent(n):\n",
        "  \"\"\"\n",
        "  Use to increase the readability of the code\n",
        "  @param n: (number) The number to convert\n",
        "  @return n: (number) The number converted\n",
        "  \"\"\"\n",
        "  return n*100"
      ],
      "execution_count": 48,
      "outputs": []
    },
    {
      "cell_type": "markdown",
      "metadata": {
        "id": "-vGwSe8W4Rke"
      },
      "source": [
        "# 1 - Extraction des données \n",
        "\n",
        "Le fichier d'origine étant trop volumineux, aucun de nous n'était en mesure de l'ouvrir sans que l'ordinateur ne plante. \n",
        "\n",
        "Pour pallier à ce problème nous avons récupérer les différents *Truth rating* ( True, False, Mixture ) un à un et de les concaténer en un dataframe via [data.gesis.org](https://data.gesis.org/claimskg/explorer/home)."
      ]
    },
    {
      "cell_type": "code",
      "metadata": {
        "ExecuteTime": {
          "end_time": "2020-05-15T10:22:52.486312Z",
          "start_time": "2020-05-15T10:22:51.808507Z"
        },
        "colab": {
          "base_uri": "https://localhost:8080/",
          "height": 0
        },
        "id": "TOUg4pRl4Rkf",
        "outputId": "36b88c96-7639-41bc-be17-b970082c9aad"
      },
      "source": [
        "import pandas as pandas\n",
        "import glob, os \n",
        "\n",
        "# Méthode locale\n",
        "# df = pandas.concat( map( pandas.read_csv, glob.glob(os.path.join('', \"./datasets/*.csv\"))))\n",
        "\n",
        "# Méthode drive\n",
        "df = pandas.concat( map( pandas.read_csv, glob.glob(os.path.join('', \"/content/drive/My Drive/Colab Notebooks/datasets/*.csv\"))))\n",
        "\n",
        "row, col = df.shape\n",
        "print(\"Dataframe size: \" + str(df.size))\n",
        "df.head()"
      ],
      "execution_count": 238,
      "outputs": [
        {
          "output_type": "stream",
          "text": [
            "Dataframe size: 342328\n"
          ],
          "name": "stdout"
        },
        {
          "output_type": "execute_result",
          "data": {
            "text/html": [
              "<div>\n",
              "<style scoped>\n",
              "    .dataframe tbody tr th:only-of-type {\n",
              "        vertical-align: middle;\n",
              "    }\n",
              "\n",
              "    .dataframe tbody tr th {\n",
              "        vertical-align: top;\n",
              "    }\n",
              "\n",
              "    .dataframe thead th {\n",
              "        text-align: right;\n",
              "    }\n",
              "</style>\n",
              "<table border=\"1\" class=\"dataframe\">\n",
              "  <thead>\n",
              "    <tr style=\"text-align: right;\">\n",
              "      <th></th>\n",
              "      <th>id</th>\n",
              "      <th>text</th>\n",
              "      <th>date</th>\n",
              "      <th>truthRating</th>\n",
              "      <th>ratingName</th>\n",
              "      <th>author</th>\n",
              "      <th>headline</th>\n",
              "      <th>named_entities_claim</th>\n",
              "      <th>named_entities_article</th>\n",
              "      <th>keywords</th>\n",
              "      <th>source</th>\n",
              "      <th>sourceURL</th>\n",
              "      <th>link</th>\n",
              "      <th>language</th>\n",
              "    </tr>\n",
              "  </thead>\n",
              "  <tbody>\n",
              "    <tr>\n",
              "      <th>0</th>\n",
              "      <td>http://data.gesis.org/claimskg/claim_review/36...</td>\n",
              "      <td>'There will be no public funding for abortion ...</td>\n",
              "      <td>2010-03-21</td>\n",
              "      <td>3</td>\n",
              "      <td>True</td>\n",
              "      <td>Bart Stupak</td>\n",
              "      <td>Stupak revises abortion stance on health care ...</td>\n",
              "      <td>Abortion rights,Barack Obama,Bart Stupak,Ben N...</td>\n",
              "      <td>abortion</td>\n",
              "      <td>Abortion,Health Care</td>\n",
              "      <td>politifact</td>\n",
              "      <td>http://www.politifact.com</td>\n",
              "      <td>http://www.politifact.com/truth-o-meter/statem...</td>\n",
              "      <td>English</td>\n",
              "    </tr>\n",
              "    <tr>\n",
              "      <th>1</th>\n",
              "      <td>http://data.gesis.org/claimskg/claim_review/e6...</td>\n",
              "      <td>Central Health 'is the only hospital district ...</td>\n",
              "      <td>2011-03-15</td>\n",
              "      <td>3</td>\n",
              "      <td>True</td>\n",
              "      <td>Wayne Christian</td>\n",
              "      <td>State Rep. Wayne Christian says Central Health...</td>\n",
              "      <td>Austin American-Statesman,Harris County Hospit...</td>\n",
              "      <td>NaN</td>\n",
              "      <td>Abortion</td>\n",
              "      <td>politifact</td>\n",
              "      <td>http://www.politifact.com</td>\n",
              "      <td>http://www.politifact.com/texas/statements/201...</td>\n",
              "      <td>English</td>\n",
              "    </tr>\n",
              "    <tr>\n",
              "      <th>2</th>\n",
              "      <td>http://data.gesis.org/claimskg/claim_review/e0...</td>\n",
              "      <td>Says most of Perry's chiefs of staff have been...</td>\n",
              "      <td>2010-08-14</td>\n",
              "      <td>3</td>\n",
              "      <td>True</td>\n",
              "      <td>Bill White</td>\n",
              "      <td>Bill White says most of Gov. Rick Perry's chie...</td>\n",
              "      <td>AT&amp;T,Bill Clements,Bill White,Bracewell &amp; Giul...</td>\n",
              "      <td>NaN</td>\n",
              "      <td>Ethics</td>\n",
              "      <td>politifact</td>\n",
              "      <td>http://www.politifact.com</td>\n",
              "      <td>http://www.politifact.com/texas/statements/201...</td>\n",
              "      <td>English</td>\n",
              "    </tr>\n",
              "    <tr>\n",
              "      <th>3</th>\n",
              "      <td>http://data.gesis.org/claimskg/claim_review/48...</td>\n",
              "      <td>Says 'as Co-Chair of the Joint Ways &amp; Means Co...</td>\n",
              "      <td>2012-09-28</td>\n",
              "      <td>3</td>\n",
              "      <td>True</td>\n",
              "      <td>Mary Nolan</td>\n",
              "      <td>Did Mary Nolan secure funding for Milwaukie br...</td>\n",
              "      <td>Carolyn Tomei,Dave Hunt,Fetsch,Jeff Merkley,Ka...</td>\n",
              "      <td>Portland-Milwaukie Light Rail project</td>\n",
              "      <td>State Budget,State Finances,Transportation</td>\n",
              "      <td>politifact</td>\n",
              "      <td>http://www.politifact.com</td>\n",
              "      <td>http://www.politifact.com/oregon/statements/20...</td>\n",
              "      <td>English</td>\n",
              "    </tr>\n",
              "    <tr>\n",
              "      <th>4</th>\n",
              "      <td>http://data.gesis.org/claimskg/claim_review/80...</td>\n",
              "      <td>Says Gary Farmer’s claim that he 'received an ...</td>\n",
              "      <td>2016-07-08</td>\n",
              "      <td>3</td>\n",
              "      <td>True</td>\n",
              "      <td>Jim Waldman</td>\n",
              "      <td>Florida Senate candidate never actually receiv...</td>\n",
              "      <td>Gary Farmer,Gwyndolen Clarke-Reed,Jim Waldman,...</td>\n",
              "      <td>Gary Farmer</td>\n",
              "      <td>Guns</td>\n",
              "      <td>politifact</td>\n",
              "      <td>http://www.politifact.com</td>\n",
              "      <td>http://www.politifact.com/florida/statements/2...</td>\n",
              "      <td>English</td>\n",
              "    </tr>\n",
              "  </tbody>\n",
              "</table>\n",
              "</div>"
            ],
            "text/plain": [
              "                                                  id  ... language\n",
              "0  http://data.gesis.org/claimskg/claim_review/36...  ...  English\n",
              "1  http://data.gesis.org/claimskg/claim_review/e6...  ...  English\n",
              "2  http://data.gesis.org/claimskg/claim_review/e0...  ...  English\n",
              "3  http://data.gesis.org/claimskg/claim_review/48...  ...  English\n",
              "4  http://data.gesis.org/claimskg/claim_review/80...  ...  English\n",
              "\n",
              "[5 rows x 14 columns]"
            ]
          },
          "metadata": {
            "tags": []
          },
          "execution_count": 238
        }
      ]
    },
    {
      "cell_type": "markdown",
      "metadata": {
        "id": "_boo0whAQ5Ju"
      },
      "source": [
        "Analysons les données nulles présentes dans notre dataframe"
      ]
    },
    {
      "cell_type": "code",
      "metadata": {
        "colab": {
          "base_uri": "https://localhost:8080/",
          "height": 0
        },
        "id": "wynjObcUqpy4",
        "outputId": "848b91c1-ba10-41c1-cfe3-88ba3b736b89"
      },
      "source": [
        "null_sums = [df[column].isnull().sum() for column in df.columns]\n",
        "\n",
        "sums_df = pandas.DataFrame({\n",
        "    'Columns': df.columns, \n",
        "    'Null_sums': null_sums})\n",
        "\n",
        "display_barplot(sums_df, 'NaN value by class', \n",
        "                'Columns', 'Column name', \n",
        "                'Null_sums', 'Sum of null values',\n",
        "                'v')"
      ],
      "execution_count": 239,
      "outputs": [
        {
          "output_type": "display_data",
          "data": {
            "image/png": "[encoded data removed]",
            "text/plain": [
              "<Figure size 1080x360 with 1 Axes>"
            ]
          },
          "metadata": {
            "tags": [],
            "needs_background": "light"
          }
        }
      ]
    },
    {
      "cell_type": "markdown",
      "metadata": {
        "id": "5SK9oyV0rpho"
      },
      "source": [
        "La donnée principal, *text*, ne comporte aucune cellule nulle, ce qui veut dire que nous pouvons remplacer les autres cellules nulles en une chaîne de caractères vide. Nous pouvons nous le permettre car ce sont des données additionnels que nous ajouterons plus tard. \n",
        "\n",
        "Ceci permettra d'éviter la perte de plus d'1/3 de nos données, de part les 9112 lignes qui auraient étaient supprimées en utilisant une méthode *dropna* traditionnelle, et de conserver un maximum d'information."
      ]
    },
    {
      "cell_type": "code",
      "metadata": {
        "colab": {
          "base_uri": "https://localhost:8080/"
        },
        "id": "DpLCAsHbv9iG",
        "outputId": "3ba1f561-0623-48ca-fa6a-54b46da02951"
      },
      "source": [
        "nb_row = df.shape[0]\n",
        "print(\"Pourcentage de donnée sauvées: ~%0.2f%%\" % (to_percent(9112)/nb_row))"
      ],
      "execution_count": 240,
      "outputs": [
        {
          "output_type": "stream",
          "text": [
            "Pourcentage de donnée sauvées: ~37.26%\n"
          ],
          "name": "stdout"
        }
      ]
    },
    {
      "cell_type": "code",
      "metadata": {
        "colab": {
          "base_uri": "https://localhost:8080/",
          "height": 0
        },
        "id": "g-wdOCHeyB_r",
        "outputId": "05d604be-a879-40d4-e09c-415c71010dd9"
      },
      "source": [
        "for column in df.columns:\n",
        "  df[column].fillna(value='', inplace=True)\n",
        "\n",
        "df.head()"
      ],
      "execution_count": 241,
      "outputs": [
        {
          "output_type": "execute_result",
          "data": {
            "text/html": [
              "<div>\n",
              "<style scoped>\n",
              "    .dataframe tbody tr th:only-of-type {\n",
              "        vertical-align: middle;\n",
              "    }\n",
              "\n",
              "    .dataframe tbody tr th {\n",
              "        vertical-align: top;\n",
              "    }\n",
              "\n",
              "    .dataframe thead th {\n",
              "        text-align: right;\n",
              "    }\n",
              "</style>\n",
              "<table border=\"1\" class=\"dataframe\">\n",
              "  <thead>\n",
              "    <tr style=\"text-align: right;\">\n",
              "      <th></th>\n",
              "      <th>id</th>\n",
              "      <th>text</th>\n",
              "      <th>date</th>\n",
              "      <th>truthRating</th>\n",
              "      <th>ratingName</th>\n",
              "      <th>author</th>\n",
              "      <th>headline</th>\n",
              "      <th>named_entities_claim</th>\n",
              "      <th>named_entities_article</th>\n",
              "      <th>keywords</th>\n",
              "      <th>source</th>\n",
              "      <th>sourceURL</th>\n",
              "      <th>link</th>\n",
              "      <th>language</th>\n",
              "    </tr>\n",
              "  </thead>\n",
              "  <tbody>\n",
              "    <tr>\n",
              "      <th>0</th>\n",
              "      <td>http://data.gesis.org/claimskg/claim_review/36...</td>\n",
              "      <td>'There will be no public funding for abortion ...</td>\n",
              "      <td>2010-03-21</td>\n",
              "      <td>3</td>\n",
              "      <td>True</td>\n",
              "      <td>Bart Stupak</td>\n",
              "      <td>Stupak revises abortion stance on health care ...</td>\n",
              "      <td>Abortion rights,Barack Obama,Bart Stupak,Ben N...</td>\n",
              "      <td>abortion</td>\n",
              "      <td>Abortion,Health Care</td>\n",
              "      <td>politifact</td>\n",
              "      <td>http://www.politifact.com</td>\n",
              "      <td>http://www.politifact.com/truth-o-meter/statem...</td>\n",
              "      <td>English</td>\n",
              "    </tr>\n",
              "    <tr>\n",
              "      <th>1</th>\n",
              "      <td>http://data.gesis.org/claimskg/claim_review/e6...</td>\n",
              "      <td>Central Health 'is the only hospital district ...</td>\n",
              "      <td>2011-03-15</td>\n",
              "      <td>3</td>\n",
              "      <td>True</td>\n",
              "      <td>Wayne Christian</td>\n",
              "      <td>State Rep. Wayne Christian says Central Health...</td>\n",
              "      <td>Austin American-Statesman,Harris County Hospit...</td>\n",
              "      <td></td>\n",
              "      <td>Abortion</td>\n",
              "      <td>politifact</td>\n",
              "      <td>http://www.politifact.com</td>\n",
              "      <td>http://www.politifact.com/texas/statements/201...</td>\n",
              "      <td>English</td>\n",
              "    </tr>\n",
              "    <tr>\n",
              "      <th>2</th>\n",
              "      <td>http://data.gesis.org/claimskg/claim_review/e0...</td>\n",
              "      <td>Says most of Perry's chiefs of staff have been...</td>\n",
              "      <td>2010-08-14</td>\n",
              "      <td>3</td>\n",
              "      <td>True</td>\n",
              "      <td>Bill White</td>\n",
              "      <td>Bill White says most of Gov. Rick Perry's chie...</td>\n",
              "      <td>AT&amp;T,Bill Clements,Bill White,Bracewell &amp; Giul...</td>\n",
              "      <td></td>\n",
              "      <td>Ethics</td>\n",
              "      <td>politifact</td>\n",
              "      <td>http://www.politifact.com</td>\n",
              "      <td>http://www.politifact.com/texas/statements/201...</td>\n",
              "      <td>English</td>\n",
              "    </tr>\n",
              "    <tr>\n",
              "      <th>3</th>\n",
              "      <td>http://data.gesis.org/claimskg/claim_review/48...</td>\n",
              "      <td>Says 'as Co-Chair of the Joint Ways &amp; Means Co...</td>\n",
              "      <td>2012-09-28</td>\n",
              "      <td>3</td>\n",
              "      <td>True</td>\n",
              "      <td>Mary Nolan</td>\n",
              "      <td>Did Mary Nolan secure funding for Milwaukie br...</td>\n",
              "      <td>Carolyn Tomei,Dave Hunt,Fetsch,Jeff Merkley,Ka...</td>\n",
              "      <td>Portland-Milwaukie Light Rail project</td>\n",
              "      <td>State Budget,State Finances,Transportation</td>\n",
              "      <td>politifact</td>\n",
              "      <td>http://www.politifact.com</td>\n",
              "      <td>http://www.politifact.com/oregon/statements/20...</td>\n",
              "      <td>English</td>\n",
              "    </tr>\n",
              "    <tr>\n",
              "      <th>4</th>\n",
              "      <td>http://data.gesis.org/claimskg/claim_review/80...</td>\n",
              "      <td>Says Gary Farmer’s claim that he 'received an ...</td>\n",
              "      <td>2016-07-08</td>\n",
              "      <td>3</td>\n",
              "      <td>True</td>\n",
              "      <td>Jim Waldman</td>\n",
              "      <td>Florida Senate candidate never actually receiv...</td>\n",
              "      <td>Gary Farmer,Gwyndolen Clarke-Reed,Jim Waldman,...</td>\n",
              "      <td>Gary Farmer</td>\n",
              "      <td>Guns</td>\n",
              "      <td>politifact</td>\n",
              "      <td>http://www.politifact.com</td>\n",
              "      <td>http://www.politifact.com/florida/statements/2...</td>\n",
              "      <td>English</td>\n",
              "    </tr>\n",
              "  </tbody>\n",
              "</table>\n",
              "</div>"
            ],
            "text/plain": [
              "                                                  id  ... language\n",
              "0  http://data.gesis.org/claimskg/claim_review/36...  ...  English\n",
              "1  http://data.gesis.org/claimskg/claim_review/e6...  ...  English\n",
              "2  http://data.gesis.org/claimskg/claim_review/e0...  ...  English\n",
              "3  http://data.gesis.org/claimskg/claim_review/48...  ...  English\n",
              "4  http://data.gesis.org/claimskg/claim_review/80...  ...  English\n",
              "\n",
              "[5 rows x 14 columns]"
            ]
          },
          "metadata": {
            "tags": []
          },
          "execution_count": 241
        }
      ]
    },
    {
      "cell_type": "markdown",
      "metadata": {
        "id": "-cO0qKAP4Rkg"
      },
      "source": [
        "# 2 - Prétraitement des données.\n",
        "Le prétraitement des données est une étape importante dans l'analyse de texte et le traitement du langage naturel. Il permet de fournir à nos algorithmes d'apprentisage un texte simplifié et analysable, amplifiant ainsi leur performance."
      ]
    },
    {
      "cell_type": "code",
      "metadata": {
        "colab": {
          "base_uri": "https://localhost:8080/"
        },
        "id": "BCzHcwm4CAVo",
        "outputId": "5567ddb4-103d-4e09-b2f0-8eeee958a6d5"
      },
      "source": [
        "import nltk\n",
        "from nltk.tokenize import word_tokenize\n",
        "nltk.download('punkt')\n",
        "nltk.download('stopwords')"
      ],
      "execution_count": 242,
      "outputs": [
        {
          "output_type": "stream",
          "text": [
            "[nltk_data] Downloading package punkt to /root/nltk_data...\n",
            "[nltk_data]   Package punkt is already up-to-date!\n",
            "[nltk_data] Downloading package stopwords to /root/nltk_data...\n",
            "[nltk_data]   Package stopwords is already up-to-date!\n"
          ],
          "name": "stdout"
        },
        {
          "output_type": "execute_result",
          "data": {
            "text/plain": [
              "True"
            ]
          },
          "metadata": {
            "tags": []
          },
          "execution_count": 242
        }
      ]
    },
    {
      "cell_type": "markdown",
      "metadata": {
        "id": "uVhuKs1pAnXN"
      },
      "source": [
        "## Stemming"
      ]
    },
    {
      "cell_type": "code",
      "metadata": {
        "colab": {
          "base_uri": "https://localhost:8080/",
          "height": 0
        },
        "id": "0h2eQyvd-crs",
        "outputId": "4916684a-ed08-4da7-a9e1-ebd0e7521563"
      },
      "source": [
        "from nltk.stem.snowball import SnowballStemmer\n",
        "stemmer = SnowballStemmer('english')\n",
        "\n",
        "mock_text = \"I love working with my friends\"\n",
        "\n",
        "def stem_words(text):\n",
        "  \"\"\"\n",
        "  Apply stemming on the text\n",
        "  @param text: (string) The text\n",
        "  @return text: (string) The stemming text\n",
        "  \"\"\"\n",
        "  tokens = word_tokenize(text)\n",
        "  return ' '.join([ stemmer.stem(word) for word in tokens ])\n",
        "\n",
        "stem_words(mock_text)"
      ],
      "execution_count": 243,
      "outputs": [
        {
          "output_type": "execute_result",
          "data": {
            "application/vnd.google.colaboratory.intrinsic+json": {
              "type": "string"
            },
            "text/plain": [
              "'i love work with my friend'"
            ]
          },
          "metadata": {
            "tags": []
          },
          "execution_count": 243
        }
      ]
    },
    {
      "cell_type": "markdown",
      "metadata": {
        "id": "5ILrDeqF14zq"
      },
      "source": [
        "## Gestion du texte non ascii\n",
        "\n",
        "On normalise notre texte en supprimant tout les caractères non ascii. Certains langage nécessiterais ces caractères mais ici nous ne traitons que des documents en anglais donc ce n'est pas nécessaire."
      ]
    },
    {
      "cell_type": "code",
      "metadata": {
        "id": "vhFfnHU514Xg",
        "colab": {
          "base_uri": "https://localhost:8080/"
        },
        "outputId": "18475fb1-db54-47e7-eed4-47f4283929a5"
      },
      "source": [
        "import unicodedata\n",
        "\n",
        "mock_text = \"😱 Nöñ àsçîï tèxt 😱\"\n",
        "words = word_tokenize(mock_text)\n",
        "\n",
        "def remove_non_ascii(words):\n",
        "  \"\"\"\n",
        "  Remove non ascii character in the list of words\n",
        "  @param words: (list) Tokenize list of words\n",
        "  @return words: (list) The list of words except non ascii one\n",
        "  \"\"\"\n",
        "  new_words = []\n",
        "  for word in words:\n",
        "    new_word = unicodedata.normalize('NFKD', word).encode('ascii', 'ignore').decode('utf8')\n",
        "    \n",
        "    if new_word:\n",
        "      new_words.append(new_word)\n",
        "      \n",
        "  return new_words\n",
        "\n",
        "print(' '.join(remove_non_ascii(words)))"
      ],
      "execution_count": 244,
      "outputs": [
        {
          "output_type": "stream",
          "text": [
            "Non ascii text\n"
          ],
          "name": "stdout"
        }
      ]
    },
    {
      "cell_type": "markdown",
      "metadata": {
        "id": "Dn3DiOXXPNE1"
      },
      "source": [
        "## Lowering case\n",
        "\n",
        "C'est la technique de prétraitement de texte la plus courante et la plus simple. Elle permet de convertir le texte en minuscule afin de réduire considérablement les tests à établir."
      ]
    },
    {
      "cell_type": "code",
      "metadata": {
        "ExecuteTime": {
          "end_time": "2020-05-15T09:10:55.742759Z",
          "start_time": "2020-05-15T09:10:55.727006Z"
        },
        "id": "uLfNgBCO4Rkh",
        "colab": {
          "base_uri": "https://localhost:8080/"
        },
        "outputId": "241070e6-c894-4c5f-c5df-f7cf2b5636c7"
      },
      "source": [
        "mock_text = \"An UPPERCASE TeXt\"\n",
        "words = word_tokenize(mock_text)\n",
        "\n",
        "def to_lowercase(words):\n",
        "  \"\"\"\n",
        "  Lowercase each word in the list of words\n",
        "  @param words: (list) Tokenize list of words\n",
        "  @return words: (list) The same list of words but in lowercase\n",
        "  \"\"\"\n",
        "  return [word.lower() for word in words]\n",
        "\n",
        "print(' '.join(to_lowercase(words)))"
      ],
      "execution_count": 245,
      "outputs": [
        {
          "output_type": "stream",
          "text": [
            "an uppercase text\n"
          ],
          "name": "stdout"
        }
      ]
    },
    {
      "cell_type": "markdown",
      "metadata": {
        "id": "rkxYnGRJHZF0"
      },
      "source": [
        "## Single Character removal\n",
        "\n",
        "On supprime les mots de taille 1 car ils apportent peu voire aucunes informations, les supprimer favoriseras donc la rapidité de notre apprentissage."
      ]
    },
    {
      "cell_type": "code",
      "metadata": {
        "id": "SMiQzc7oHeDV",
        "colab": {
          "base_uri": "https://localhost:8080/"
        },
        "outputId": "756ace29-55d9-49eb-b86d-f79b6f915651"
      },
      "source": [
        "mock_text = \"Just a a a simple text to a a a test\"\n",
        "words = word_tokenize(mock_text)\n",
        "\n",
        "def remove_single_char(words):\n",
        "  \"\"\"\n",
        "  Remove single character in the list of words\n",
        "  @param words: (list) Tokenize list of words\n",
        "  @return words: (list) The same list of words except single character\n",
        "  \"\"\"\n",
        "  return [word for word in words if len(word) > 1]\n",
        "\n",
        "print(' '.join(remove_single_char(words)))"
      ],
      "execution_count": 246,
      "outputs": [
        {
          "output_type": "stream",
          "text": [
            "Just simple text to test\n"
          ],
          "name": "stdout"
        }
      ]
    },
    {
      "cell_type": "markdown",
      "metadata": {
        "id": "twn7TI9Y4Rkh"
      },
      "source": [
        "## Removal of Punctuations\n",
        "\n",
        "La ponctuation importe peu, elle est donc inutile à analyser, il convient donc de la retirer de notre jeu de donnés.\n"
      ]
    },
    {
      "cell_type": "code",
      "metadata": {
        "ExecuteTime": {
          "end_time": "2020-05-15T09:10:55.808149Z",
          "start_time": "2020-05-15T09:10:55.745095Z"
        },
        "id": "B0H-xTdP4Rkh",
        "colab": {
          "base_uri": "https://localhost:8080/"
        },
        "outputId": "0048bcd7-2047-49c2-fcf8-ac886182ff76"
      },
      "source": [
        "import re\n",
        "\n",
        "mock_text = \"A !! ver*y ? punctuated .!? text !\"\n",
        "words = word_tokenize(mock_text)\n",
        "\n",
        "def remove_punctuation(words):\n",
        "  \"\"\"\n",
        "  Remove punctuation in the list of words\n",
        "  @param words: (list) Tokenize list of words\n",
        "  @return words: (list) The same list of words except punctuation\n",
        "  \"\"\"\n",
        "  return [re.sub('[^\\w\\s]','', word) for word in words if re.sub('[^\\w\\s]','', word)]\n",
        "\n",
        "print(' '.join(remove_punctuation(words)))"
      ],
      "execution_count": 247,
      "outputs": [
        {
          "output_type": "stream",
          "text": [
            "A very punctuated text\n"
          ],
          "name": "stdout"
        }
      ]
    },
    {
      "cell_type": "markdown",
      "metadata": {
        "id": "vKHMdEr74Rkh"
      },
      "source": [
        "## Numbers removal\n",
        "\n",
        "De même que la ponctuation, les nombres sont peu informatifs et peuvent être supprimée. Nous aurions aussi pû les remplacer par du texte mais cela ajouterai des données supplémentaires \"inutiles\" à traiter pendant l'apprentissage."
      ]
    },
    {
      "cell_type": "code",
      "metadata": {
        "ExecuteTime": {
          "end_time": "2020-05-15T09:10:57.052875Z",
          "start_time": "2020-05-15T09:10:55.810460Z"
        },
        "id": "YhTdCrdw4Rki",
        "colab": {
          "base_uri": "https://localhost:8080/"
        },
        "outputId": "322666b1-6814-4be6-f6a4-9d109bf227c7"
      },
      "source": [
        "import inflect\n",
        "\n",
        "mock_text = \"This text has 69 to 420percent chance to be the best\"\n",
        "words = word_tokenize(mock_text)\n",
        "\n",
        "def remove_numbers(text):\n",
        "  \"\"\"\n",
        "  Remove numbers in the text\n",
        "  @param text: (string) A text\n",
        "  @return text: (string) The text without numbers\n",
        "  \"\"\"\n",
        "  return ''.join(filter(lambda x: not x.isdigit(), text))\n",
        "\n",
        "result = remove_numbers(mock_text)\n",
        "print(result)\n",
        "\n",
        "# --- On pourrait les remplacer si nécessaire avec cette fonction\n",
        "# def replace_numbers(words):\n",
        "#   p = inflect.engine()\n",
        "#   return [p.number_to_words(word) if word.isdigit() else word for word in words]\n",
        "\n",
        "# result = replace_numbers(words)\n",
        "# print(''.join(result))"
      ],
      "execution_count": 248,
      "outputs": [
        {
          "output_type": "stream",
          "text": [
            "This text has  to percent chance to be the best\n"
          ],
          "name": "stdout"
        }
      ]
    },
    {
      "cell_type": "markdown",
      "metadata": {
        "id": "WnX5hhEfpGf9"
      },
      "source": [
        "## Stop-word removal\n",
        "\n",
        "Un mot d'arrêt est un mot couramment utilisé (tel que \"the\", \"a\", \"an\", \"in) Ils révèlent peu voire pas d'informations, on peut donc les enlever.\n",
        "\n",
        "NLTK fournis une liste comlète de mots d'arrêts en anglais, nous nous en serviront donc pour faire le tris."
      ]
    },
    {
      "cell_type": "code",
      "metadata": {
        "id": "FvcT4WIapRYc",
        "colab": {
          "base_uri": "https://localhost:8080/"
        },
        "outputId": "9d88a97d-72f3-4e0c-fd6d-85b48114ad08"
      },
      "source": [
        "from nltk.corpus import stopwords\n",
        "stopwords = stopwords.words('english')\n",
        "\n",
        "mock_text = \"This is an unusual text with a lot of stopwords\"\n",
        "words = word_tokenize(mock_text)\n",
        "\n",
        "def remove_stopwords(words):\n",
        "  \"\"\"\n",
        "  Remove stopwords in the list of words\n",
        "  @param words: (list) Tokenize list of words\n",
        "  @return words: (list) The same list of words except stop_words\n",
        "  \"\"\"\n",
        "  return [word for word in words if word not in stopwords]\n",
        "\n",
        "print(' '.join(remove_stopwords(words)))"
      ],
      "execution_count": 249,
      "outputs": [
        {
          "output_type": "stream",
          "text": [
            "This unusual text lot stopwords\n"
          ],
          "name": "stdout"
        }
      ]
    },
    {
      "cell_type": "markdown",
      "metadata": {
        "id": "SqKz-Oa6PmA6"
      },
      "source": [
        "## Clean text\n",
        "\n",
        "Nous sommes maintenant en mesure de nettoyer notre texte efficacement de la manière suivante"
      ]
    },
    {
      "cell_type": "code",
      "metadata": {
        "id": "oqvrI69KPoZI",
        "colab": {
          "base_uri": "https://localhost:8080/",
          "height": 0
        },
        "outputId": "8d3c3118-94fa-44e9-9220-32a74ad954f4"
      },
      "source": [
        "mock_text = \"# Màke the tëxt 420 timé bê*tt*ër pleãsê 😱\"\n",
        "\n",
        "def normalize(words):\n",
        "  \"\"\"\n",
        "  Normalize the list of words\n",
        "  @param words: (list) Tokenize list of words\n",
        "  @return words: (string) The normalize list of words\n",
        "  \"\"\"\n",
        "  words = remove_non_ascii(words)\n",
        "  words = to_lowercase(words)\n",
        "  words = remove_punctuation(words)\n",
        "  words = remove_single_char(words)\n",
        "  words = remove_stopwords(words)\n",
        "  return words\n",
        "\n",
        "def clean_text(text):\n",
        "  \"\"\"\n",
        "  Clean the text by replacing or removing characters in the text\n",
        "  @param words: (string) The text to clean\n",
        "  @return words: (string) The cleaned text\n",
        "  \"\"\"\n",
        "  text = remove_numbers(text)\n",
        "  words = word_tokenize(text)\n",
        "  words = normalize(words)\n",
        "  return ' '.join(words)\n",
        "\n",
        "def clean_dataframe_text(column_name):\n",
        "  \"\"\"\n",
        "  Apply clean text on a specific column of a dataframe\n",
        "  @param column_name: (string) The column, containing string values, to clean\n",
        "  \"\"\"\n",
        "  df[column_name] = df[column_name].apply(lambda x: clean_text(x))\n",
        "\n",
        "clean_text(mock_text)"
      ],
      "execution_count": 250,
      "outputs": [
        {
          "output_type": "execute_result",
          "data": {
            "application/vnd.google.colaboratory.intrinsic+json": {
              "type": "string"
            },
            "text/plain": [
              "'make text time better please'"
            ]
          },
          "metadata": {
            "tags": []
          },
          "execution_count": 250
        }
      ]
    },
    {
      "cell_type": "markdown",
      "metadata": {
        "id": "3f22Zmh_Lbir"
      },
      "source": [
        "Appliquons notre fonction sur les différentes données de notre dataframe."
      ]
    },
    {
      "cell_type": "code",
      "metadata": {
        "id": "akd8qgd_K8L8"
      },
      "source": [
        "df[\"text\"] = df[\"text\"].apply(stem_words)\n",
        "clean_dataframe_text(\"text\")\n",
        "\n",
        "df[\"headline\"] = df[\"headline\"].apply(stem_words)\n",
        "clean_dataframe_text(\"headline\")\n",
        "\n",
        "clean_dataframe_text(\"keywords\")\n",
        "clean_dataframe_text(\"author\")\n",
        "clean_dataframe_text(\"named_entities_claim\")\n",
        "clean_dataframe_text(\"named_entities_article\")"
      ],
      "execution_count": 251,
      "outputs": []
    },
    {
      "cell_type": "markdown",
      "metadata": {
        "id": "oMtl6K7OIbIC"
      },
      "source": [
        "Redéfinissons notre dataframe en utilisant nos données nettoyées."
      ]
    },
    {
      "cell_type": "code",
      "metadata": {
        "colab": {
          "base_uri": "https://localhost:8080/",
          "height": 0
        },
        "id": "AjOIST6f2iIB",
        "outputId": "7e041637-19f6-45b9-a0cb-6b6a42d645a7"
      },
      "source": [
        "data = [ df[\"text\"],\n",
        "        df[\"date\"],\n",
        "        df[\"author\"],\n",
        "        df[\"headline\"],\n",
        "        df[\"named_entities_claim\"],\n",
        "        df[\"named_entities_article\"],\n",
        "        df[\"keywords\"],\n",
        "        df[\"source\"],\n",
        "        df[\"sourceURL\"],\n",
        "        df[\"link\"],\n",
        "        df[\"language\"],\n",
        "        df[\"truthRating\"],\n",
        "        df[\"ratingName\"]]\n",
        "\n",
        "headers = [\"text\", \"date\", \"author\", \"headline\", \"named_entities_claim\", \n",
        "           \"named_entities_article\", \"keywords\", \"source\", \"sourceURL\", \n",
        "           \"link\", \"language\", \"truthRating\", \"ratingName\"]\n",
        "\n",
        "df = pandas.concat(data, axis=1, keys=headers)\n",
        "df.head()"
      ],
      "execution_count": 252,
      "outputs": [
        {
          "output_type": "execute_result",
          "data": {
            "text/html": [
              "<div>\n",
              "<style scoped>\n",
              "    .dataframe tbody tr th:only-of-type {\n",
              "        vertical-align: middle;\n",
              "    }\n",
              "\n",
              "    .dataframe tbody tr th {\n",
              "        vertical-align: top;\n",
              "    }\n",
              "\n",
              "    .dataframe thead th {\n",
              "        text-align: right;\n",
              "    }\n",
              "</style>\n",
              "<table border=\"1\" class=\"dataframe\">\n",
              "  <thead>\n",
              "    <tr style=\"text-align: right;\">\n",
              "      <th></th>\n",
              "      <th>text</th>\n",
              "      <th>date</th>\n",
              "      <th>author</th>\n",
              "      <th>headline</th>\n",
              "      <th>named_entities_claim</th>\n",
              "      <th>named_entities_article</th>\n",
              "      <th>keywords</th>\n",
              "      <th>source</th>\n",
              "      <th>sourceURL</th>\n",
              "      <th>link</th>\n",
              "      <th>language</th>\n",
              "      <th>truthRating</th>\n",
              "      <th>ratingName</th>\n",
              "    </tr>\n",
              "  </thead>\n",
              "  <tbody>\n",
              "    <tr>\n",
              "      <th>0</th>\n",
              "      <td>public fund abort legisl</td>\n",
              "      <td>2010-03-21</td>\n",
              "      <td>bart stupak</td>\n",
              "      <td>stupak revis abort stanc health care bill cite...</td>\n",
              "      <td>abortion rights barack obama bart stupak ben n...</td>\n",
              "      <td>abortion</td>\n",
              "      <td>abortion health care</td>\n",
              "      <td>politifact</td>\n",
              "      <td>http://www.politifact.com</td>\n",
              "      <td>http://www.politifact.com/truth-o-meter/statem...</td>\n",
              "      <td>English</td>\n",
              "      <td>3</td>\n",
              "      <td>True</td>\n",
              "    </tr>\n",
              "    <tr>\n",
              "      <th>1</th>\n",
              "      <td>central health onli hospit district texa spend...</td>\n",
              "      <td>2011-03-15</td>\n",
              "      <td>wayne christian</td>\n",
              "      <td>state rep wayn christian say central health tr...</td>\n",
              "      <td>austin americanstatesman harris county hospita...</td>\n",
              "      <td></td>\n",
              "      <td>abortion</td>\n",
              "      <td>politifact</td>\n",
              "      <td>http://www.politifact.com</td>\n",
              "      <td>http://www.politifact.com/texas/statements/201...</td>\n",
              "      <td>English</td>\n",
              "      <td>3</td>\n",
              "      <td>True</td>\n",
              "    </tr>\n",
              "    <tr>\n",
              "      <th>2</th>\n",
              "      <td>say perri chief staff lobbyist</td>\n",
              "      <td>2010-08-14</td>\n",
              "      <td>bill white</td>\n",
              "      <td>bill white say gov rick perri chief staff lobb...</td>\n",
              "      <td>bill clements bill white bracewell giuliani br...</td>\n",
              "      <td></td>\n",
              "      <td>ethics</td>\n",
              "      <td>politifact</td>\n",
              "      <td>http://www.politifact.com</td>\n",
              "      <td>http://www.politifact.com/texas/statements/201...</td>\n",
              "      <td>English</td>\n",
              "      <td>3</td>\n",
              "      <td>True</td>\n",
              "    </tr>\n",
              "    <tr>\n",
              "      <th>3</th>\n",
              "      <td>say cochair joint way mean committe secur key ...</td>\n",
              "      <td>2012-09-28</td>\n",
              "      <td>mary nolan</td>\n",
              "      <td>mari nolan secur fund milwauki bridg project</td>\n",
              "      <td>carolyn tomei dave hunt fetsch jeff merkley ka...</td>\n",
              "      <td>portlandmilwaukie light rail project</td>\n",
              "      <td>state budget state finances transportation</td>\n",
              "      <td>politifact</td>\n",
              "      <td>http://www.politifact.com</td>\n",
              "      <td>http://www.politifact.com/oregon/statements/20...</td>\n",
              "      <td>English</td>\n",
              "      <td>3</td>\n",
              "      <td>True</td>\n",
              "    </tr>\n",
              "    <tr>\n",
              "      <th>4</th>\n",
              "      <td>say gari farmer claim receiv nra absolut lie</td>\n",
              "      <td>2016-07-08</td>\n",
              "      <td>jim waldman</td>\n",
              "      <td>florida senat candid never actual receiv nra</td>\n",
              "      <td>gary farmer gwyndolen clarkereed jim waldman l...</td>\n",
              "      <td>gary farmer</td>\n",
              "      <td>guns</td>\n",
              "      <td>politifact</td>\n",
              "      <td>http://www.politifact.com</td>\n",
              "      <td>http://www.politifact.com/florida/statements/2...</td>\n",
              "      <td>English</td>\n",
              "      <td>3</td>\n",
              "      <td>True</td>\n",
              "    </tr>\n",
              "  </tbody>\n",
              "</table>\n",
              "</div>"
            ],
            "text/plain": [
              "                                                text  ... ratingName\n",
              "0                           public fund abort legisl  ...       True\n",
              "1  central health onli hospit district texa spend...  ...       True\n",
              "2                     say perri chief staff lobbyist  ...       True\n",
              "3  say cochair joint way mean committe secur key ...  ...       True\n",
              "4       say gari farmer claim receiv nra absolut lie  ...       True\n",
              "\n",
              "[5 rows x 13 columns]"
            ]
          },
          "metadata": {
            "tags": []
          },
          "execution_count": 252
        }
      ]
    },
    {
      "cell_type": "markdown",
      "metadata": {
        "id": "XkwZupJ-4Rkn"
      },
      "source": [
        "# 3 - Classification \n",
        "\n",
        "Maintenant que l'on a prétraité les données de notre dataframe nous pouvons commencer à utiliser des modèles. Les différents classifieur de Scikit-learn ne sont pas compatible avec du texte. Il faut donc re-processer les données déjà nettoyées.\n",
        "\n",
        "On utilisera la technique du sac de mot qui consiste à transformer les différentes occurrences d'un mots en un entier. L'occurrence n'est pas vraiment précise car les phrase les plus longues auront naturellement plus d'occurrences de mot mais on peut se baser sur leur fréquences. Pour se faire nous utiliserons la méthode TF-IDF permettant d'obtenir une fréquence pondérée.\n",
        "\n",
        "Nous utiliserons un pipeline pour faciliter l'utilisation et la lisibilité du code de la vectorisation."
      ]
    },
    {
      "cell_type": "markdown",
      "metadata": {
        "id": "UyKgK5voKGTS"
      },
      "source": [
        "### Initialisation des fonctions"
      ]
    },
    {
      "cell_type": "code",
      "metadata": {
        "id": "hWeU6lUPFFuk"
      },
      "source": [
        "def display_confusion_matrix(confusion_matrix, labels=[]):\n",
        "  \"\"\"\n",
        "  Heatmap display for the confusion matrix\n",
        "  @param confusion_matrix, the matrix of confusion\n",
        "  @param labels, the confusion matrix labels\n",
        "  \"\"\"\n",
        "  sn.heatmap(confusion_matrix, annot=True, fmt='d', xticklabels=labels, yticklabels=labels)\n",
        "  plt.show()"
      ],
      "execution_count": 253,
      "outputs": []
    },
    {
      "cell_type": "code",
      "metadata": {
        "id": "EfBca3CSc745"
      },
      "source": [
        "from sklearn.pipeline import Pipeline\n",
        "from sklearn.feature_extraction.text import TfidfVectorizer\n",
        "\n",
        "TFIDF_VECT = TfidfVectorizer()\n",
        "\n",
        "def get_pipeline(classifier):\n",
        "  \"\"\"\n",
        "  Get the pipeline for a classifier\n",
        "  @param classifier, the classifier\n",
        "  @return The pipeline for the classifier\n",
        "  \"\"\"\n",
        "  return Pipeline([('tfidf', TFIDF_VECT),\n",
        "                   ('clf', classifier)])"
      ],
      "execution_count": 254,
      "outputs": []
    },
    {
      "cell_type": "code",
      "metadata": {
        "id": "7zxVPzJjVR5s"
      },
      "source": [
        "import numpy as np\n",
        "from sklearn.model_selection import train_test_split \n",
        "from sklearn.metrics import accuracy_score, classification_report, log_loss, confusion_matrix\n",
        "from time import time\n",
        "\n",
        "SEED = 42\n",
        "\n",
        "def apply_classifier(pipeline, data, target, disp=False, classifier_name=''):\n",
        "  \"\"\"\n",
        "  Apply the classifier on the data and target give\n",
        "  @param pipeline, the pipeline.\n",
        "  @param data, the data to test.\n",
        "  @param target, the data to target.\n",
        "  @param disp, toggle execution display. By default is false.\n",
        "  @param classifier_name, the name of the classifier. By default is empty.\n",
        "  @param labels, the confusion matrix labels. By default is empty.\n",
        "  @return The prediction accuracy.\n",
        "  \"\"\"\n",
        "\n",
        "  # --- Mise en place du jeu de test\n",
        "  validation_size = 0.4\n",
        "  testsize= 1 - validation_size\n",
        "  X_train, X_test, y_train, y_test = train_test_split(\n",
        "      data, \n",
        "      target, \n",
        "      train_size=validation_size, \n",
        "      test_size=testsize,\n",
        "      random_state=SEED,\n",
        "      stratify=target\n",
        "  )\n",
        "\n",
        "  if disp: print(\"# --- Application du classifieur\", classifier_name)\n",
        "\n",
        "  # --- Fit\n",
        "  t0 = time()\n",
        "  pipeline.fit(X_train, y_train)\n",
        "  if disp: print(\"[~] Fit réalisé en %0.3fs\" % (time() - t0))\n",
        "\n",
        "  # --- Predict\n",
        "  t0 = time()\n",
        "  result = pipeline.predict(X_test)\n",
        "  if disp: print(\"[~] Prédiction réalisée en %0.3fs\\n\" % (time() - t0))\n",
        "\n",
        "  # --- Accuracy & confusion matrix\n",
        "  accuracy = pipeline.score(X_test, y_test)\n",
        "  conf = confusion_matrix(y_test, result)\n",
        "\n",
        "  if disp:\n",
        "    print('[+] Accuracy: %0.3f%%' % to_percent(accuracy))\n",
        "    print('\\n[~] Matrice de confusion:')\n",
        "    labels = np.unique(y_test)\n",
        "    display_confusion_matrix(conf, labels)\n",
        "    print('\\n[~] Rapport de classification: \\n', classification_report(y_test, result))\n",
        "\n",
        "  return accuracy"
      ],
      "execution_count": 255,
      "outputs": []
    },
    {
      "cell_type": "markdown",
      "metadata": {
        "id": "OitZ2z404Rko"
      },
      "source": [
        "### Un premier classifieur\n",
        "\n"
      ]
    },
    {
      "cell_type": "code",
      "metadata": {
        "colab": {
          "base_uri": "https://localhost:8080/",
          "height": 0
        },
        "id": "pMUUmJ48cDwP",
        "outputId": "14c1ac4e-12ae-4fcc-8416-c2711b41d732"
      },
      "source": [
        "from sklearn.linear_model import LogisticRegression\n",
        "\n",
        "classifier = LogisticRegression(n_jobs=-1)\n",
        "pipeline = get_pipeline(classifier)\n",
        "\n",
        "data = df['text']\n",
        "target = df['ratingName'].astype('string')\n",
        "\n",
        "result = apply_classifier(pipeline, data, target, True)"
      ],
      "execution_count": 256,
      "outputs": [
        {
          "output_type": "stream",
          "text": [
            "# --- Application du classifieur \n",
            "[~] Fit réalisé en 1.115s\n",
            "[~] Prédiction réalisée en 0.204s\n",
            "\n",
            "[+] Accuracy: 56.475%\n",
            "\n",
            "[~] Matrice de confusion:\n"
          ],
          "name": "stdout"
        },
        {
          "output_type": "display_data",
          "data": {
            "image/png": "[encoded data removed]",
            "text/plain": [
              "<Figure size 432x288 with 2 Axes>"
            ]
          },
          "metadata": {
            "tags": [],
            "needs_background": "light"
          }
        },
        {
          "output_type": "stream",
          "text": [
            "\n",
            "[~] Rapport de classification: \n",
            "               precision    recall  f1-score   support\n",
            "\n",
            "       False       0.57      0.66      0.61      6000\n",
            "     MIXTURE       0.57      0.68      0.62      6000\n",
            "        True       0.36      0.09      0.14      2672\n",
            "\n",
            "    accuracy                           0.56     14672\n",
            "   macro avg       0.50      0.48      0.46     14672\n",
            "weighted avg       0.54      0.56      0.53     14672\n",
            "\n"
          ],
          "name": "stdout"
        }
      ]
    },
    {
      "cell_type": "markdown",
      "metadata": {
        "ExecuteTime": {
          "end_time": "2020-04-24T14:51:33.951197Z",
          "start_time": "2020-04-24T14:51:33.947104Z"
        },
        "id": "3QgtzIs64Rkm"
      },
      "source": [
        "Tout fonctionne, mais ne nous réjouissons pas trop vite, car notre précision est pas fameuse, $\\approx56.5\\%$, outre ça, la matrice de confusion laisse paraître un problème sur la colonne True. Cette colonne obtient des résultats passable face à Mixture et False avec des chiffres bien plus amaigris que ces concurrents. On se rend compte dans le rapport de classification que le *support* est deux à trois fois plus petits que les autres. Ceci est sûrement dû à un déséquilibre dans nos données, vérifions ça."
      ]
    },
    {
      "cell_type": "markdown",
      "metadata": {
        "id": "_nYtEObbM6NH"
      },
      "source": [
        "## Equilibrage dans le dataset\n",
        "\n",
        "L'équilibrage des donnée permet de s'assurer que notre classifieur ne soit pas biaisé dans ses choix de réponse. Prenons le cas où plus de $\\frac{3}{4}$ des informations sont fausses et seulement $\\frac{1}{4}$ sont vraies. Après son apprentissage, le classifieur tendras facilement à dire qu'une assertion est fausse car il n'auras pas assez d'informations pour discerner correctement celles qui sont vraies. C'est ce qu'on appelle des faux négatif. Voilà pourquoi l'équilibrage est très important.\n",
        "\n",
        "Jetons un coup d'œil dans notre dataframe."
      ]
    },
    {
      "cell_type": "code",
      "metadata": {
        "id": "ZZQCqfs6eU3u"
      },
      "source": [
        "def display_pie(dataframe, column_name, title=''):\n",
        "  \"\"\"\n",
        "  Display a specific column in a pie chart\n",
        "  @param dataframe, the dataframe.\n",
        "  @param column_name, the column name to display\n",
        "  @param title, the title of the pie, by default is empty\n",
        "  \"\"\"\n",
        "  dataframe[column_name].value_counts().plot(\n",
        "      kind='pie', \n",
        "      figsize=(6,10),\n",
        "      title=title, \n",
        "      fontsize=11, \n",
        "      legend=True,\n",
        "      shadow=True,\n",
        "      autopct='%1.1f%%'\n",
        "  )\n",
        "  plt.show()"
      ],
      "execution_count": 257,
      "outputs": []
    },
    {
      "cell_type": "markdown",
      "metadata": {
        "id": "sRu4nSQqhvok"
      },
      "source": [
        "### Répartition général"
      ]
    },
    {
      "cell_type": "code",
      "metadata": {
        "id": "quQtveVORCBi",
        "colab": {
          "base_uri": "https://localhost:8080/",
          "height": 0
        },
        "outputId": "b3632045-a10b-4c15-cff4-d6c2326c4a6f"
      },
      "source": [
        "display_pie(df, 'ratingName', 'Répartition général')\n",
        "\n",
        "print(\"Statistique:\")\n",
        "print(df[\"ratingName\"].value_counts())"
      ],
      "execution_count": 258,
      "outputs": [
        {
          "output_type": "display_data",
          "data": {
            "image/png": "[encoded data removed]",
            "text/plain": [
              "<Figure size 432x720 with 1 Axes>"
            ]
          },
          "metadata": {
            "tags": []
          }
        },
        {
          "output_type": "stream",
          "text": [
            "Statistique:\n",
            "MIXTURE    10000\n",
            "False      10000\n",
            "True        4452\n",
            "Name: ratingName, dtype: int64\n"
          ],
          "name": "stdout"
        }
      ]
    },
    {
      "cell_type": "markdown",
      "metadata": {
        "id": "EVW7sVFi4Rkm"
      },
      "source": [
        "Nous manquons cruellement de classe *True*, ce que nous avions supposées via la matrice de confusion est donc correcte. Nos *Mixture* étant assez proche de notre classe dominante cela explique la similirétude des résultats.\n",
        "\n",
        "Dans le cadre du projet nous devrons nous intéresser aux tâches suivantes:\n",
        "1. {True} vs {False}\n",
        "2. ({True} || {False}) vs {Mixture}\n",
        "3. {True} vs {False} vs {Mixture}\n",
        "\n",
        "Visualisons la répartition des deux premières, la dernière ayant été vus ci-dessus."
      ]
    },
    {
      "cell_type": "markdown",
      "metadata": {
        "id": "y1KzcRrShy9i"
      },
      "source": [
        "### Répartition True et False"
      ]
    },
    {
      "cell_type": "code",
      "metadata": {
        "id": "flW_lmQJ1hab",
        "colab": {
          "base_uri": "https://localhost:8080/",
          "height": 0
        },
        "outputId": "061c8aae-d020-4f30-8c09-6389f67da371"
      },
      "source": [
        "df_TF = df[df.truthRating != 2]\n",
        "display_pie(df_TF, 'ratingName', 'Répartition {True} vs {False}')\n",
        "\n",
        "print(\"Statistique:\")\n",
        "print(df_TF[\"ratingName\"].value_counts(), '\\n\\n')"
      ],
      "execution_count": 259,
      "outputs": [
        {
          "output_type": "display_data",
          "data": {
            "image/png": "[encoded data removed]",
            "text/plain": [
              "<Figure size 432x720 with 1 Axes>"
            ]
          },
          "metadata": {
            "tags": []
          }
        },
        {
          "output_type": "stream",
          "text": [
            "Statistique:\n",
            "False    10000\n",
            "True      4452\n",
            "Name: ratingName, dtype: int64 \n",
            "\n",
            "\n"
          ],
          "name": "stdout"
        }
      ]
    },
    {
      "cell_type": "markdown",
      "metadata": {
        "id": "cyvtKl9bh15a"
      },
      "source": [
        "### Répartition False et Mixture\n",
        "\n",
        "Nous l'expliquerons plus tard, mais les méthodes de rééquilibrage peuvent provoquer de la perte de donnée ou même les fausser, c'est pourquoi ici nous choisirons d'utiliser la classe *False*, car c'est celle qui possèdent autant de données."
      ]
    },
    {
      "cell_type": "code",
      "metadata": {
        "id": "VKEHDNFjhpxF",
        "colab": {
          "base_uri": "https://localhost:8080/",
          "height": 0
        },
        "outputId": "52bdc55d-fd18-4f7e-9410-87779d05c6be"
      },
      "source": [
        "df_FM = df[df.truthRating != 3]\n",
        "display_pie(df_FM, 'ratingName', 'Répartition {False} vs {Mixture}')\n",
        "\n",
        "print(\"Statistique:\")\n",
        "print(df_FM[\"ratingName\"].value_counts())"
      ],
      "execution_count": 260,
      "outputs": [
        {
          "output_type": "display_data",
          "data": {
            "image/png": "[encoded data removed]",
            "text/plain": [
              "<Figure size 432x720 with 1 Axes>"
            ]
          },
          "metadata": {
            "tags": []
          }
        },
        {
          "output_type": "stream",
          "text": [
            "Statistique:\n",
            "MIXTURE    10000\n",
            "False      10000\n",
            "Name: ratingName, dtype: int64\n"
          ],
          "name": "stdout"
        }
      ]
    },
    {
      "cell_type": "markdown",
      "metadata": {
        "id": "GbG7r2B32H__"
      },
      "source": [
        "Pour rééquilibrer un jeu de donnée il existe de multiples méthodes mais nous allons en traiter deux ici:\n",
        "1. Downslamping\n",
        "2. Upslamping\n",
        "\n",
        "En les utilisant nous pourront déterminer laquelle sera le plus optimal. \n",
        "\n",
        "C'est partis ! Tout d'abord divisons nos différentes classes en trois dataframe distinct."
      ]
    },
    {
      "cell_type": "code",
      "metadata": {
        "id": "txWiyS22Wy16"
      },
      "source": [
        "nb_false, nb_mixture, nb_true = df[\"truthRating\"].value_counts()\n",
        "\n",
        "df_false = df[df['truthRating'] == 1]\n",
        "df_mixture = df[df['truthRating'] == 2]\n",
        "df_true = df[df['truthRating'] == 3]"
      ],
      "execution_count": 261,
      "outputs": []
    },
    {
      "cell_type": "markdown",
      "metadata": {
        "id": "IpTYkLCmGbTS"
      },
      "source": [
        "### Précision avant sampling"
      ]
    },
    {
      "cell_type": "code",
      "metadata": {
        "colab": {
          "base_uri": "https://localhost:8080/",
          "height": 0
        },
        "id": "JobO-2m5Ggbc",
        "outputId": "e7c5d65b-2a84-4a81-dcd3-35176746625d"
      },
      "source": [
        "data = df_TF['text']\n",
        "target = df_TF['ratingName'].astype('string')\n",
        "\n",
        "before_sampling = apply_classifier(pipeline, data, target, True)"
      ],
      "execution_count": 262,
      "outputs": [
        {
          "output_type": "stream",
          "text": [
            "# --- Application du classifieur \n",
            "[~] Fit réalisé en 0.228s\n",
            "[~] Prédiction réalisée en 0.106s\n",
            "\n",
            "[+] Accuracy: 71.218%\n",
            "\n",
            "[~] Matrice de confusion:\n"
          ],
          "name": "stdout"
        },
        {
          "output_type": "display_data",
          "data": {
            "image/png": "[encoded data removed]",
            "text/plain": [
              "<Figure size 432x288 with 2 Axes>"
            ]
          },
          "metadata": {
            "tags": [],
            "needs_background": "light"
          }
        },
        {
          "output_type": "stream",
          "text": [
            "\n",
            "[~] Rapport de classification: \n",
            "               precision    recall  f1-score   support\n",
            "\n",
            "       False       0.72      0.95      0.82      6001\n",
            "        True       0.61      0.18      0.28      2671\n",
            "\n",
            "    accuracy                           0.71      8672\n",
            "   macro avg       0.67      0.56      0.55      8672\n",
            "weighted avg       0.69      0.71      0.65      8672\n",
            "\n"
          ],
          "name": "stdout"
        }
      ]
    },
    {
      "cell_type": "markdown",
      "metadata": {
        "id": "lj9RSHoG7-Vg"
      },
      "source": [
        "### DownSlamping"
      ]
    },
    {
      "cell_type": "markdown",
      "metadata": {
        "id": "LW4OlbjS0PWr"
      },
      "source": [
        "La méthode de DownSlamping (ou sous-échantillonnage) processus de réduction de la fréquence d'échantillonnage. Ici c'est la réduction du nombre de données de la classe au nombre le plus élevée pour avoir le même nombre que la classe au nombre le plus faible.\n",
        "\n",
        "Ici, avec True vs False, nous devrons donc réduire le nombre de classe False, pour se mettre à l'échelle du nombres de classe True. \n",
        "\n",
        "Voilà pourquoi précédemment nous parlions de perte de données, ici la classe False va en perdre, quasiment, deux tiers."
      ]
    },
    {
      "cell_type": "code",
      "metadata": {
        "colab": {
          "base_uri": "https://localhost:8080/",
          "height": 0
        },
        "id": "Jd5gJejF_grA",
        "outputId": "b800ad2c-f4d4-4c95-98ce-5bf08791e0c1"
      },
      "source": [
        "df_false_down = df_false.sample(nb_true)\n",
        "df_TF_DOWN = pandas.concat([df_false_down, df_true], axis=0)\n",
        "\n",
        "print('Répartition après DownSlamping:')\n",
        "print(df_TF_DOWN[\"ratingName\"].value_counts(), '\\n')\n",
        "display_pie(df_TF_DOWN, 'ratingName', 'DownSlamping sur le dataframe\\n{True} vs {False}')"
      ],
      "execution_count": 263,
      "outputs": [
        {
          "output_type": "stream",
          "text": [
            "Répartition après DownSlamping:\n",
            "True     4452\n",
            "False    4452\n",
            "Name: ratingName, dtype: int64 \n",
            "\n"
          ],
          "name": "stdout"
        },
        {
          "output_type": "display_data",
          "data": {
            "image/png": "[encoded data removed]",
            "text/plain": [
              "<Figure size 432x720 with 1 Axes>"
            ]
          },
          "metadata": {
            "tags": []
          }
        }
      ]
    },
    {
      "cell_type": "markdown",
      "metadata": {
        "id": "-gPEj-lTy8p_"
      },
      "source": [
        "Le jeu de donnée à était parfaitement équilibrée par rapport à notre classe True, testons notre classifieur sur ce nouveau jeu de donnée équilibrée."
      ]
    },
    {
      "cell_type": "code",
      "metadata": {
        "colab": {
          "base_uri": "https://localhost:8080/",
          "height": 0
        },
        "id": "RPmM0_GvHmq2",
        "outputId": "dd2c556e-93fd-4d8f-9126-2fe8eb738ac8"
      },
      "source": [
        "data = df_TF_DOWN['text']\n",
        "target = df_TF_DOWN['ratingName'].astype('string')\n",
        "\n",
        "apply_classifier(pipeline, data, target, True)"
      ],
      "execution_count": 264,
      "outputs": [
        {
          "output_type": "stream",
          "text": [
            "# --- Application du classifieur \n",
            "[~] Fit réalisé en 0.146s\n",
            "[~] Prédiction réalisée en 0.072s\n",
            "\n",
            "[+] Accuracy: 62.680%\n",
            "\n",
            "[~] Matrice de confusion:\n"
          ],
          "name": "stdout"
        },
        {
          "output_type": "display_data",
          "data": {
            "image/png": "[encoded data removed]",
            "text/plain": [
              "<Figure size 432x288 with 2 Axes>"
            ]
          },
          "metadata": {
            "tags": [],
            "needs_background": "light"
          }
        },
        {
          "output_type": "stream",
          "text": [
            "\n",
            "[~] Rapport de classification: \n",
            "               precision    recall  f1-score   support\n",
            "\n",
            "       False       0.62      0.65      0.64      2672\n",
            "        True       0.63      0.60      0.62      2671\n",
            "\n",
            "    accuracy                           0.63      5343\n",
            "   macro avg       0.63      0.63      0.63      5343\n",
            "weighted avg       0.63      0.63      0.63      5343\n",
            "\n"
          ],
          "name": "stdout"
        },
        {
          "output_type": "execute_result",
          "data": {
            "text/plain": [
              "0.6268014224218604"
            ]
          },
          "metadata": {
            "tags": []
          },
          "execution_count": 264
        }
      ]
    },
    {
      "cell_type": "markdown",
      "metadata": {
        "id": "ybaZDzly1sp-"
      },
      "source": [
        "Comme prévus, suite à la perte des données la précision est bien plus faible qu'auparavant. Néanmoins la matrice de confusion est bien plus stable voir équivalente ce qui est plus acceptable."
      ]
    },
    {
      "cell_type": "markdown",
      "metadata": {
        "id": "TR14vQn_-O77"
      },
      "source": [
        "### UpSlamping"
      ]
    },
    {
      "cell_type": "markdown",
      "metadata": {
        "id": "xfcxKuzy2MUX"
      },
      "source": [
        "La méthode de UpSlamping (ou sur-échantillonnage) est l'inverse du DownSlampling, son processus à pour but d'augmenter la fréquence d'échantillonnage.\n",
        "\n",
        "Ce qui veut dire qu'avec True vs False, nous devrons donc augmenter le nombre de classe True, pour s'ajuster au nombre de classe False. \n",
        "\n",
        "A l'inverse de la perte de données, c'est les données aléatoires qui sont créent pendant l'opération qui peuvent poser problème et fausser notre prédiction."
      ]
    },
    {
      "cell_type": "code",
      "metadata": {
        "colab": {
          "base_uri": "https://localhost:8080/",
          "height": 0
        },
        "id": "7HbcPAszKO03",
        "outputId": "3a4f255e-fb0a-4cbe-e4a5-be3b3bdf6f86"
      },
      "source": [
        "df_true_up = df_true.sample(nb_false, replace=True)\n",
        "df_TF_UP = pandas.concat([df_false, df_true_up], axis=0)\n",
        "\n",
        "print('Répartition après Upslamping:')\n",
        "print(df_TF_UP[\"ratingName\"].value_counts(), '\\n')\n",
        "display_pie(df_TF_UP, 'ratingName', 'UpSlamping sur le dataframe\\n{True} et {False}')"
      ],
      "execution_count": 265,
      "outputs": [
        {
          "output_type": "stream",
          "text": [
            "Répartition après Upslamping:\n",
            "True     10000\n",
            "False    10000\n",
            "Name: ratingName, dtype: int64 \n",
            "\n"
          ],
          "name": "stdout"
        },
        {
          "output_type": "display_data",
          "data": {
            "image/png": "[encoded data removed]",
            "text/plain": [
              "<Figure size 432x720 with 1 Axes>"
            ]
          },
          "metadata": {
            "tags": []
          }
        }
      ]
    },
    {
      "cell_type": "markdown",
      "metadata": {
        "id": "l0DBUuoNR1Rx"
      },
      "source": [
        "Le jeu de donnée à était parfaitement équilibrée par rapport à notre classe False, testons notre classifieur sur ce nouveau jeu de donnée équilibrée."
      ]
    },
    {
      "cell_type": "code",
      "metadata": {
        "colab": {
          "base_uri": "https://localhost:8080/",
          "height": 0
        },
        "id": "RTSpC0rNLAPz",
        "outputId": "c9b2764c-aa11-499f-ce38-4f537c06b94e"
      },
      "source": [
        "data = df_TF_UP['text']\n",
        "target = df_TF_UP['ratingName'].astype('string')\n",
        "\n",
        "after_upsampling = apply_classifier(pipeline, data, target, True)"
      ],
      "execution_count": 266,
      "outputs": [
        {
          "output_type": "stream",
          "text": [
            "# --- Application du classifieur \n",
            "[~] Fit réalisé en 0.545s\n",
            "[~] Prédiction réalisée en 0.179s\n",
            "\n",
            "[+] Accuracy: 71.567%\n",
            "\n",
            "[~] Matrice de confusion:\n"
          ],
          "name": "stdout"
        },
        {
          "output_type": "display_data",
          "data": {
            "image/png": "[encoded data removed]",
            "text/plain": [
              "<Figure size 432x288 with 2 Axes>"
            ]
          },
          "metadata": {
            "tags": [],
            "needs_background": "light"
          }
        },
        {
          "output_type": "stream",
          "text": [
            "\n",
            "[~] Rapport de classification: \n",
            "               precision    recall  f1-score   support\n",
            "\n",
            "       False       0.72      0.71      0.71      6000\n",
            "        True       0.71      0.72      0.72      6000\n",
            "\n",
            "    accuracy                           0.72     12000\n",
            "   macro avg       0.72      0.72      0.72     12000\n",
            "weighted avg       0.72      0.72      0.72     12000\n",
            "\n"
          ],
          "name": "stdout"
        }
      ]
    },
    {
      "cell_type": "markdown",
      "metadata": {
        "id": "Zy9ULI7Z3OmG"
      },
      "source": [
        "Comme prévus, la précision est nettement plus élevé mais la matrice de confusion montre bien le désavatange de cette méthode. Le nombre de True positif est légèrement supérieur aux Faux positifs, alors qu'au départ c'était l'inverse. Malgré tout cette méthode reste très performante et offre un résultat très convenable, nous l'adopterons donc dans la poursuite de notre étude."
      ]
    },
    {
      "cell_type": "markdown",
      "metadata": {
        "id": "uxw7cO-SmOe8"
      },
      "source": [
        "## Avant de poursuivre\n",
        "\n",
        "Avant de poursuivre plus loin, nous allons Upsampler les différentes formes que nous devons étudier par la suite, à savoir (*True vs False vs Mixture*) et (*False vs Mixture*). Au final nous n'avons que (*True vs False vs Mixture*) à faire car False et Mixture possèdent le même nombres de données."
      ]
    },
    {
      "cell_type": "markdown",
      "metadata": {
        "id": "wU_Ie1Jzlk1e"
      },
      "source": [
        "### Upsampling True vs False vs Mixture"
      ]
    },
    {
      "cell_type": "code",
      "metadata": {
        "colab": {
          "base_uri": "https://localhost:8080/",
          "height": 0
        },
        "id": "4mcIWMKFlm6y",
        "outputId": "5a81add1-41e0-4caf-9cb7-1f89e99fe7e9"
      },
      "source": [
        "df_true_up = df_true.sample(nb_false, replace=True)\n",
        "df_TFM_UP = pandas.concat([df_false, df_mixture, df_true_up], axis=0)\n",
        "\n",
        "print('Répartition après Upslamping:')\n",
        "print(df_TFM_UP[\"ratingName\"].value_counts(), '\\n')\n",
        "display_pie(df_TFM_UP, 'ratingName', 'UpSlamping sur le dataframe\\n{True} vs {False} vs {Mixture}')"
      ],
      "execution_count": 267,
      "outputs": [
        {
          "output_type": "stream",
          "text": [
            "Répartition après Upslamping:\n",
            "MIXTURE    10000\n",
            "True       10000\n",
            "False      10000\n",
            "Name: ratingName, dtype: int64 \n",
            "\n"
          ],
          "name": "stdout"
        },
        {
          "output_type": "display_data",
          "data": {
            "image/png": "[encoded data removed]",
            "text/plain": [
              "<Figure size 432x720 with 1 Axes>"
            ]
          },
          "metadata": {
            "tags": []
          }
        }
      ]
    },
    {
      "cell_type": "markdown",
      "metadata": {
        "id": "KifKVicZ4Rkp"
      },
      "source": [
        "## Avant de continuer\n",
        "\n",
        "Petit topo de la situation. Nous avons prétraitées nos données pour les rendre plus efficaces lors de l'apprentissage de notre classifieur. Nous nous sommes assurés de rééquilibrer nos données correctement afin d'éviter la biaisage de notre modèle et nous venons de trouver les 2 classifieurs les plus aptes à continuer l'aventure. Il est temps d'optimiser notre modèle en injectant des données supplémentaires et choisir au mieux nos features."
      ]
    },
    {
      "cell_type": "markdown",
      "metadata": {
        "id": "MgkyJrM27ay1"
      },
      "source": [
        "# 4 - Optimisation\n",
        "\n",
        "Pour améliorer notre précision nous pouvons ajouter de nouvelles features lors de l'apprentissage, mais il faut les choisirs avec soin. En effet, de nouvelles données inutiles ajouterait du bruit à l'estimation, de même si l'on ajoute des informations redondante. Nous pouvons ainsi économiser du temps et/ou de l'argent en ne mesurant pas ces prédicteurs."
      ]
    },
    {
      "cell_type": "markdown",
      "metadata": {
        "id": "5HPBpiZuK2v5"
      },
      "source": [
        "### Initialisation et mise en place"
      ]
    },
    {
      "cell_type": "code",
      "metadata": {
        "id": "ja1LA-FvIZv9"
      },
      "source": [
        "def concat_features(df, features):\n",
        "  \"\"\"\n",
        "  Concatène les différentes features\n",
        "  @param df, the dataframe\n",
        "  @param features, the features to concatenate\n",
        "  @return the features concatenate\n",
        "  \"\"\"\n",
        "\n",
        "  data = df[features]\n",
        "  return data.apply(\n",
        "      lambda x: ' '.join(x.dropna().astype(str)),\n",
        "      axis=1\n",
        "  )"
      ],
      "execution_count": 268,
      "outputs": []
    },
    {
      "cell_type": "markdown",
      "metadata": {
        "id": "Rd8UkVNkYq8Z"
      },
      "source": [
        "### Remove constant and select best features\n",
        "\n",
        "Nous pouvons améliorer les features a faible variances en supprimant toutes les features inférieure à une certaines valeurs données. Après cette étape de nettoyage on peut utiliser un selecteur de feature qui choisis, ici, la moitié des features en fonction de leur poids."
      ]
    },
    {
      "cell_type": "code",
      "metadata": {
        "id": "c0Vgh9W7cX9h"
      },
      "source": [
        "from sklearn.feature_selection import SelectFromModel, VarianceThreshold\n",
        "\n",
        "TFIDF_VECT = TfidfVectorizer(min_df=0.001, ngram_range=(1,3))\n",
        "VT = VarianceThreshold(threshold=0.0002)\n",
        "SFM = SelectFromModel(LogisticRegression())\n",
        "\n",
        "def get_pipeline_improved(classifier):\n",
        "  \"\"\"\n",
        "  Get the pipeline for a classifier with an additional variance threshold\n",
        "  @param classifier, the classifier to use.\n",
        "  \"\"\"\n",
        "  return Pipeline([('tfidf', TFIDF_VECT),\n",
        "                   ('feature_selection', SFM),\n",
        "                   ('clf', classifier)])"
      ],
      "execution_count": 317,
      "outputs": []
    },
    {
      "cell_type": "code",
      "metadata": {
        "colab": {
          "base_uri": "https://localhost:8080/",
          "height": 610
        },
        "id": "kU8JZ75UBrkv",
        "outputId": "8dc84d21-98fc-4ccd-91c5-ab14a0fbc53e"
      },
      "source": [
        "pipeline = get_pipeline_improved(classifier)\n",
        "feature_selection_accuracy = apply_classifier(pipeline, data, target, True)\n",
        "\n",
        "print(\"[+] Feature selection accuracy: %0.2f%%\" \n",
        "      %to_percent(feature_selection_accuracy))"
      ],
      "execution_count": 270,
      "outputs": [
        {
          "output_type": "stream",
          "text": [
            "# --- Application du classifieur \n",
            "[~] Fit réalisé en 0.996s\n",
            "[~] Prédiction réalisée en 0.331s\n",
            "\n",
            "[+] Accuracy: 68.050%\n",
            "\n",
            "[~] Matrice de confusion:\n"
          ],
          "name": "stdout"
        },
        {
          "output_type": "display_data",
          "data": {
            "image/png": "[encoded data removed]",
            "text/plain": [
              "<Figure size 432x288 with 2 Axes>"
            ]
          },
          "metadata": {
            "tags": [],
            "needs_background": "light"
          }
        },
        {
          "output_type": "stream",
          "text": [
            "\n",
            "[~] Rapport de classification: \n",
            "               precision    recall  f1-score   support\n",
            "\n",
            "       False       0.68      0.68      0.68      6000\n",
            "        True       0.68      0.68      0.68      6000\n",
            "\n",
            "    accuracy                           0.68     12000\n",
            "   macro avg       0.68      0.68      0.68     12000\n",
            "weighted avg       0.68      0.68      0.68     12000\n",
            "\n",
            "[+] Feature selection accuracy: 68.05%\n"
          ],
          "name": "stdout"
        }
      ]
    },
    {
      "cell_type": "markdown",
      "metadata": {
        "id": "0ND87oqjbi-L"
      },
      "source": [
        "Les résultats sont moins bons que précédemment, vérifions que ceci n'est pas dû à notre classifieur en testant avec un autre comme RandomForest (RF) par exemple."
      ]
    },
    {
      "cell_type": "code",
      "metadata": {
        "colab": {
          "base_uri": "https://localhost:8080/",
          "height": 610
        },
        "id": "334vF9WURgk0",
        "outputId": "9fdfb3c2-98fd-4d14-ec2a-18a46c50bb79"
      },
      "source": [
        "from sklearn.ensemble import RandomForestClassifier\n",
        "RF_pipeline = get_pipeline_improved(RandomForestClassifier())\n",
        "feature_selection_accuracy = apply_classifier(RF_pipeline, data, target, True)\n",
        "\n",
        "print(\"[+] Feature selection accuracy: %0.2f%%\" \n",
        "      %to_percent(feature_selection_accuracy))"
      ],
      "execution_count": 271,
      "outputs": [
        {
          "output_type": "stream",
          "text": [
            "# --- Application du classifieur \n",
            "[~] Fit réalisé en 5.616s\n",
            "[~] Prédiction réalisée en 1.164s\n",
            "\n",
            "[+] Accuracy: 75.217%\n",
            "\n",
            "[~] Matrice de confusion:\n"
          ],
          "name": "stdout"
        },
        {
          "output_type": "display_data",
          "data": {
            "image/png": "[encoded data removed]",
            "text/plain": [
              "<Figure size 432x288 with 2 Axes>"
            ]
          },
          "metadata": {
            "tags": [],
            "needs_background": "light"
          }
        },
        {
          "output_type": "stream",
          "text": [
            "\n",
            "[~] Rapport de classification: \n",
            "               precision    recall  f1-score   support\n",
            "\n",
            "       False       0.78      0.70      0.74      6000\n",
            "        True       0.73      0.80      0.76      6000\n",
            "\n",
            "    accuracy                           0.75     12000\n",
            "   macro avg       0.75      0.75      0.75     12000\n",
            "weighted avg       0.75      0.75      0.75     12000\n",
            "\n",
            "[+] Feature selection accuracy: 75.22%\n"
          ],
          "name": "stdout"
        }
      ]
    },
    {
      "cell_type": "markdown",
      "metadata": {
        "id": "LGcg-tnH0Uj0"
      },
      "source": [
        "Le temps de calcul à était augmentée de 4s dû à ce nouveau classifieur mais nous gagnons $\\approx4\\%$ de précision ce qui n'est pas négligeable. "
      ]
    },
    {
      "cell_type": "markdown",
      "metadata": {
        "id": "X-i94C7Ii5Mh"
      },
      "source": [
        "## Ajouts de données additionnelles\n",
        "\n",
        "Listons nos données additionnelles disponible:\n",
        "* date\n",
        "* author\n",
        "* headline\n",
        "* named_entities_claim\n",
        "* named_entities_article\n",
        "* keywords\n",
        "* source\n",
        "* sourceURL\n",
        "* link\n",
        "* language"
      ]
    },
    {
      "cell_type": "markdown",
      "metadata": {
        "id": "5BhDpGItxDSL"
      },
      "source": [
        "La date n'est pas un élément utile, composé uniquement de chiffre elle n'apportera aucune information et ne sera que du bruit dans notre apprentissage. "
      ]
    },
    {
      "cell_type": "code",
      "metadata": {
        "id": "e0U47ty1-Nqb"
      },
      "source": [
        "unwanted = ['date']"
      ],
      "execution_count": 272,
      "outputs": []
    },
    {
      "cell_type": "markdown",
      "metadata": {
        "id": "KpK-knWx2XjZ"
      },
      "source": [
        "Les liens relatifs et absolus, respectivement *sourceURL* et *link* sont aussi des sources de bruits qui sont généralement supprimé lors du prétraitement du texte, donc les ajouter n'est pas correcte. "
      ]
    },
    {
      "cell_type": "code",
      "metadata": {
        "id": "iAz3omBh2dEK"
      },
      "source": [
        "unwanted.extend(['sourceURL', 'link'])"
      ],
      "execution_count": 273,
      "outputs": []
    },
    {
      "cell_type": "markdown",
      "metadata": {
        "id": "ZaMc82_E2x_k"
      },
      "source": [
        "Le colonne *Language* est inutile dans le sens ou les données qui la composent est redondante. Composé entièrement de la même valeur, ici \"English\". Les données comme celles-ci sont inutiles pour améliorer les prédictions."
      ]
    },
    {
      "cell_type": "code",
      "metadata": {
        "id": "azWArwCU2i2I"
      },
      "source": [
        "unwanted.append('language')"
      ],
      "execution_count": 274,
      "outputs": []
    },
    {
      "cell_type": "code",
      "metadata": {
        "colab": {
          "base_uri": "https://localhost:8080/",
          "height": 285
        },
        "id": "FWqtAgmj25Hy",
        "outputId": "b53f33c5-0cb1-49fe-b039-ebcd33acf933"
      },
      "source": [
        "_df = df_TF_UP.drop(unwanted, axis=1)\n",
        "_df.head()"
      ],
      "execution_count": 275,
      "outputs": [
        {
          "output_type": "execute_result",
          "data": {
            "text/html": [
              "<div>\n",
              "<style scoped>\n",
              "    .dataframe tbody tr th:only-of-type {\n",
              "        vertical-align: middle;\n",
              "    }\n",
              "\n",
              "    .dataframe tbody tr th {\n",
              "        vertical-align: top;\n",
              "    }\n",
              "\n",
              "    .dataframe thead th {\n",
              "        text-align: right;\n",
              "    }\n",
              "</style>\n",
              "<table border=\"1\" class=\"dataframe\">\n",
              "  <thead>\n",
              "    <tr style=\"text-align: right;\">\n",
              "      <th></th>\n",
              "      <th>text</th>\n",
              "      <th>author</th>\n",
              "      <th>headline</th>\n",
              "      <th>named_entities_claim</th>\n",
              "      <th>named_entities_article</th>\n",
              "      <th>keywords</th>\n",
              "      <th>source</th>\n",
              "      <th>truthRating</th>\n",
              "      <th>ratingName</th>\n",
              "    </tr>\n",
              "  </thead>\n",
              "  <tbody>\n",
              "    <tr>\n",
              "      <th>0</th>\n",
              "      <td>hillari main extracurricular activ law school ...</td>\n",
              "      <td>chain email</td>\n",
              "      <td>help black panther</td>\n",
              "      <td>aclu alex rackley american civil liberties uni...</td>\n",
              "      <td>black panthers</td>\n",
              "      <td>candidate biography</td>\n",
              "      <td>politifact</td>\n",
              "      <td>1</td>\n",
              "      <td>False</td>\n",
              "    </tr>\n",
              "    <tr>\n",
              "      <th>1</th>\n",
              "      <td>say hillari clinton plan would bring refuge fi...</td>\n",
              "      <td>donald trump</td>\n",
              "      <td>trump say clinton would bring refuge first term</td>\n",
              "      <td>barack obama cbs center global development cou...</td>\n",
              "      <td>hillary clinton</td>\n",
              "      <td>immigration</td>\n",
              "      <td>politifact</td>\n",
              "      <td>1</td>\n",
              "      <td>False</td>\n",
              "    </tr>\n",
              "    <tr>\n",
              "      <th>2</th>\n",
              "      <td>canada suffer major donut shortag short countr...</td>\n",
              "      <td>unknown</td>\n",
              "      <td>canadian face major donut shortag first day ca...</td>\n",
              "      <td>cnn daily bonnet girl scout cookies tim horton...</td>\n",
              "      <td>marijuana</td>\n",
              "      <td>canada marijuana world news daily report</td>\n",
              "      <td>snopes</td>\n",
              "      <td>1</td>\n",
              "      <td>False</td>\n",
              "    </tr>\n",
              "    <tr>\n",
              "      <th>3</th>\n",
              "      <td>mayor ath belgium refus remov pork school cant...</td>\n",
              "      <td>unknown</td>\n",
              "      <td>belgian mayor refus ban pork school cafeteria</td>\n",
              "      <td>belgium islam maryborough victoria muslim queb...</td>\n",
              "      <td></td>\n",
              "      <td>islam</td>\n",
              "      <td>snopes</td>\n",
              "      <td>1</td>\n",
              "      <td>False</td>\n",
              "    </tr>\n",
              "    <tr>\n",
              "      <th>4</th>\n",
              "      <td>say pete gallego cancel plan meet famili sandi...</td>\n",
              "      <td>roland gutierrez</td>\n",
              "      <td>roland gutierrez err say pete gallego cancel m...</td>\n",
              "      <td>mass shooting carlos uresti democrat facebook ...</td>\n",
              "      <td>pete gallego</td>\n",
              "      <td>congress guns</td>\n",
              "      <td>politifact</td>\n",
              "      <td>1</td>\n",
              "      <td>False</td>\n",
              "    </tr>\n",
              "  </tbody>\n",
              "</table>\n",
              "</div>"
            ],
            "text/plain": [
              "                                                text  ... ratingName\n",
              "0  hillari main extracurricular activ law school ...  ...      False\n",
              "1  say hillari clinton plan would bring refuge fi...  ...      False\n",
              "2  canada suffer major donut shortag short countr...  ...      False\n",
              "3  mayor ath belgium refus remov pork school cant...  ...      False\n",
              "4  say pete gallego cancel plan meet famili sandi...  ...      False\n",
              "\n",
              "[5 rows x 9 columns]"
            ]
          },
          "metadata": {
            "tags": []
          },
          "execution_count": 275
        }
      ]
    },
    {
      "cell_type": "markdown",
      "metadata": {
        "id": "cy9uGCabtxOm"
      },
      "source": [
        "### Chacun son tour, ne vous bousculez pas !\n",
        "\n",
        "Comparons le bénéfices de précision obtenus lors de l'ajout d'une unique feature, avec notre texte principal, nous pourrons ainsi déterminer des conclusions sur notre méthodes de choix."
      ]
    },
    {
      "cell_type": "code",
      "metadata": {
        "colab": {
          "base_uri": "https://localhost:8080/"
        },
        "id": "rREQCuxn4Dti",
        "outputId": "bc07467f-0bbf-4052-ffeb-4b9720c8d39e"
      },
      "source": [
        "features = list(_df.columns)[:-2]\n",
        "accuracies = []\n",
        "\n",
        "for feature in features[1:]:\n",
        "  actual_features = ['text', feature]\n",
        "  data = concat_features(_df, actual_features)\n",
        "  accuracy = apply_classifier(RF_pipeline, data, target)\n",
        "  print(\"Features:\", actual_features, \n",
        "        \"| Accuracy: %0.2f%%\" % to_percent(accuracy))\n",
        "  accuracies.append(accuracy)"
      ],
      "execution_count": 278,
      "outputs": [
        {
          "output_type": "stream",
          "text": [
            "Features: ['text', 'author'] | Accuracy: 76.56%\n",
            "Features: ['text', 'headline'] | Accuracy: 76.55%\n",
            "Features: ['text', 'named_entities_claim'] | Accuracy: 77.68%\n",
            "Features: ['text', 'named_entities_article'] | Accuracy: 75.26%\n",
            "Features: ['text', 'keywords'] | Accuracy: 76.90%\n",
            "Features: ['text', 'source'] | Accuracy: 76.35%\n"
          ],
          "name": "stdout"
        }
      ]
    },
    {
      "cell_type": "code",
      "metadata": {
        "colab": {
          "base_uri": "https://localhost:8080/",
          "height": 359
        },
        "id": "KKp_SICO4MbV",
        "outputId": "7b2b5d34-9530-434e-9a73-c5aa3f648a80"
      },
      "source": [
        "profits = [to_percent(accuracy - feature_selection_accuracy) for accuracy in accuracies]\n",
        "\n",
        "# mise à l'échelle si nécessaire\n",
        "# min = np.min(profits)\n",
        "# if (min < 0): profits = list(map(lambda x: x + abs(min), profits))\n",
        "\n",
        "df_profits = pandas.DataFrame({\n",
        "    'features': features[1:], \n",
        "    'profits': profits})\n",
        "df_profits = df_profits.sort_values(by='profits', ascending=False)\n",
        "\n",
        "display_barplot(df_profits, \n",
        "                \"Profits of each feature on first round\", \n",
        "                'profits', \n",
        "                'Profits (%)',\n",
        "                'features', \n",
        "                'Features', \n",
        "                'h')"
      ],
      "execution_count": 279,
      "outputs": [
        {
          "output_type": "display_data",
          "data": {
            "image/png": "[encoded data removed]",
            "text/plain": [
              "<Figure size 1080x360 with 1 Axes>"
            ]
          },
          "metadata": {
            "tags": [],
            "needs_background": "light"
          }
        }
      ]
    },
    {
      "cell_type": "markdown",
      "metadata": {
        "id": "HMYeirvq4ius"
      },
      "source": [
        "Toutes les données sembles utiles à ajouter. Sauf named_entities_article qui est très faible et author car on le rappelle celui-ci appartient déjà à named_entities_claim"
      ]
    },
    {
      "cell_type": "code",
      "metadata": {
        "id": "Dph8LQ3WOKuU"
      },
      "source": [
        "features = ['text', 'named_entities_claim', 'headline', 'keywords', 'source']"
      ],
      "execution_count": 286,
      "outputs": []
    },
    {
      "cell_type": "markdown",
      "metadata": {
        "id": "W3mvcSB94w-2"
      },
      "source": [
        "### Précision avec les nouvelles données"
      ]
    },
    {
      "cell_type": "code",
      "metadata": {
        "id": "qCUlUeJt4zrD",
        "colab": {
          "base_uri": "https://localhost:8080/",
          "height": 628
        },
        "outputId": "1b368f13-4585-42e0-fbc4-08d4ddaa0486"
      },
      "source": [
        "print(\"[+] Features:\", features, \"\\n\")\n",
        "\n",
        "data = concat_features(_df, features)\n",
        "TF_accuracy = apply_classifier(RF_pipeline, data, target, True)"
      ],
      "execution_count": 288,
      "outputs": [
        {
          "output_type": "stream",
          "text": [
            "[+] Features: ['text', 'named_entities_claim', 'headline', 'keywords', 'source'] \n",
            "\n",
            "# --- Application du classifieur \n",
            "[~] Fit réalisé en 10.869s\n",
            "[~] Prédiction réalisée en 2.313s\n",
            "\n",
            "[+] Accuracy: 80.408%\n",
            "\n",
            "[~] Matrice de confusion:\n"
          ],
          "name": "stdout"
        },
        {
          "output_type": "display_data",
          "data": {
            "image/png": "[encoded data removed]",
            "text/plain": [
              "<Figure size 432x288 with 2 Axes>"
            ]
          },
          "metadata": {
            "tags": [],
            "needs_background": "light"
          }
        },
        {
          "output_type": "stream",
          "text": [
            "\n",
            "[~] Rapport de classification: \n",
            "               precision    recall  f1-score   support\n",
            "\n",
            "       False       0.83      0.76      0.79      6000\n",
            "        True       0.78      0.85      0.81      6000\n",
            "\n",
            "    accuracy                           0.80     12000\n",
            "   macro avg       0.81      0.80      0.80     12000\n",
            "weighted avg       0.81      0.80      0.80     12000\n",
            "\n"
          ],
          "name": "stdout"
        }
      ]
    },
    {
      "cell_type": "markdown",
      "metadata": {
        "id": "QlBMhlHB4Rkq"
      },
      "source": [
        "Avec toutes les données nous obtenons un score avoisinant les $80.4\\%$ soit $\\approx5\\%$ de plus que notre score précédent."
      ]
    },
    {
      "cell_type": "markdown",
      "metadata": {
        "id": "UzMHPIJY99In"
      },
      "source": [
        "## Benchmark\n",
        "\n",
        "Il existe de multiples classifieurs, nous allons donc effectuer un benchmark de certains d'entre eux sur nos données afin de déterminer le plus amême de nous founir les meilleurs performances. Nous conserverons ces résultats et ses paramètres pour la suite du projet."
      ]
    },
    {
      "cell_type": "markdown",
      "metadata": {
        "id": "TZCeAvqmexzt"
      },
      "source": [
        "### Initialisation des fonctions et des classifieurs"
      ]
    },
    {
      "cell_type": "code",
      "metadata": {
        "id": "nUHrKua9uT0W"
      },
      "source": [
        "from sklearn.neighbors import KNeighborsClassifier\n",
        "from sklearn.linear_model import SGDClassifier\n",
        "from sklearn.linear_model import LogisticRegression\n",
        "\n",
        "SEED = 42\n",
        "models = ['RandomForest', 'KNeighbors', 'SGD', 'LogisticRegression']\n",
        "\n",
        "classifiers = {\n",
        "    models[0]: RandomForestClassifier(random_state=SEED, n_jobs=-1), \n",
        "    models[1]: KNeighborsClassifier(n_jobs=-1), \n",
        "    models[2]: SGDClassifier(random_state=SEED, n_jobs=-1),\n",
        "    models[3]: LogisticRegression(random_state=SEED, n_jobs=-1)\n",
        "}\n",
        "\n",
        "params = {\n",
        "  models[0]: {\n",
        "      'clf__min_samples_split': [1, 2, 3],\n",
        "      'clf__min_samples_leaf': [1, 2, 3],\n",
        "      'clf__n_estimators': [100, 200, 300],\n",
        "      'clf__criterion': ['gini', 'entropy']\n",
        "  },\n",
        "  models[1]: {\n",
        "      'clf__n_neighbors': [5, 10], \n",
        "      'clf__weights': ['uniform', 'distance'], \n",
        "      'clf__leaf_size': [2, 5]\n",
        "  },\n",
        "  models[2]: {\n",
        "      'clf__max_iter': [500, 1000, 2000],\n",
        "      'clf__penalty': ['l1', 'l2', 'elasticnet']\n",
        "  },\n",
        "  models[3]: {\n",
        "      'clf__max_iter': [1000, 2500, 5000],\n",
        "      'clf__C': [1, 2], \n",
        "      'clf__solver' : ['lbfgs', 'liblinear']\n",
        "  }\n",
        "}"
      ],
      "execution_count": 294,
      "outputs": []
    },
    {
      "cell_type": "markdown",
      "metadata": {
        "id": "hVyTsfpqnM9K"
      },
      "source": [
        "Nos classifieurs et leur différents paramètres sont en place, il ne nous reste plus qu'à ajouter une fonction permettant d'itérer sur nos différents modèles pour les tester un a un et renvoyer le meilleur d'entre eux."
      ]
    },
    {
      "cell_type": "code",
      "metadata": {
        "id": "A9BUZjzKyh5E"
      },
      "source": [
        "from sklearn.model_selection import GridSearchCV \n",
        "\n",
        "def init_grid_search(pipeline, params):\n",
        "  \"\"\"\n",
        "  Initialize a GridSearchCV\n",
        "  @param pipeline: (Pipeline) The pipeline\n",
        "  @params params: (object) The pipeline params\n",
        "  @return GridSearchCV: (GridSearchCV) The GridSearch\n",
        "  \"\"\"\n",
        "  return GridSearchCV(pipeline, params, scoring='accuracy', n_jobs=-1)\n",
        "\n",
        "def apply_grid(grid, X_train, X_test, y_train, y_test, \n",
        "               disp=False, classifier_name=''):\n",
        "  \"\"\"\n",
        "  Apply the grid on the dataset give\n",
        "  @param grid: (GridSearchCV) The grid\n",
        "  @params X_train: (array) The data\n",
        "  @params X_test: (array) The data to test\n",
        "  @params y_train: (array) The target\n",
        "  @params y_test: (array) The target to test\n",
        "  @params disp: (bool) Toggle print display, default is False\n",
        "  @params classifier_name: (string) Name of the classifier, default is empty\n",
        "  @return [accuracy, params]: (array) The best accuracy and best params found\n",
        "  \"\"\"\n",
        "\n",
        "  # --- Mise en place du GridSearch\n",
        "  if disp: print(\"# --- Application du classifieur\", classifier_name)\n",
        "\n",
        "  # --- Fit\n",
        "  t0 = time()\n",
        "  grid.fit(X_train, y_train)\n",
        "  if disp: print(\"[~] Fit réalisé en %0.3fs\" % (time() - t0))\n",
        "\n",
        "  # --- Predict\n",
        "  t0 = time()\n",
        "  result = grid.predict(X_test)\n",
        "  if disp: print(\"[~] Prédiction réalisée en %0.3fs\\n\" % (time() - t0))\n",
        "\n",
        "  # --- Accuracy\n",
        "  accuracy = accuracy_score(y_test, result)\n",
        "  best_params = grid.best_params_\n",
        "  print('[+] Accuracy: %0.3f%%' % to_percent(accuracy))\n",
        "  print(\"[+] Meilleurs paramètres: \", best_params)\n",
        "  \n",
        "  # --- Confusion Matrix\n",
        "  conf = confusion_matrix(y_test, result)\n",
        "  if disp: \n",
        "    print('\\n[~] Matrice de confusion:')\n",
        "    labels = np.unique(y_test)\n",
        "    display_confusion_matrix(conf, labels)\n",
        "\n",
        "  # --- Report\n",
        "  if disp: \n",
        "    print('\\n[~] Rapport de classification: \\n', classification_report(y_test, \n",
        "                                                                       result))\n",
        "  return [accuracy, best_params]\n",
        "\n",
        "\n",
        "def get_best_classifier(models, classifiers, params, data, target, disp):\n",
        "  \"\"\"\n",
        "  Test all classifiers and return the best one.\n",
        "  \"\"\"\n",
        "  # --- Mise en place du jeu de test\n",
        "  validation_size = 0.4\n",
        "  testsize= 1 - validation_size\n",
        "  X_train, X_test, y_train, y_test = train_test_split(\n",
        "      data, \n",
        "      target, \n",
        "      train_size=validation_size, \n",
        "      test_size=testsize,\n",
        "      random_state=SEED,\n",
        "      stratify=target\n",
        "  )\n",
        "\n",
        "  best_model = ''\n",
        "  best_accuracy = 0.0\n",
        "  best_params = {}\n",
        "\n",
        "  for model in models:\n",
        "    pipeline = get_pipeline_improved(classifiers[model])\n",
        "    grid = init_grid_search(pipeline, params[model])\n",
        "    result = apply_grid(grid, X_train, X_test, y_train, y_test, disp, model)\n",
        "\n",
        "    if (result[0] > best_accuracy):\n",
        "      best_model = model\n",
        "      best_accuracy = result[0]\n",
        "      best_params = result[1]\n",
        "\n",
        "  return [best_model, best_accuracy, best_params]"
      ],
      "execution_count": 297,
      "outputs": []
    },
    {
      "cell_type": "markdown",
      "metadata": {
        "id": "rVEadwuuW48l"
      },
      "source": [
        "### Exécution (Optionnel)\n",
        "\n",
        "Tout est prêt nous pouvons démarrer le benchmark, ce processus pouvant être très long nous vous conseillons d'avoir un thé ou café auprès de vous si vous venez à l'exécuter ☕."
      ]
    },
    {
      "cell_type": "code",
      "metadata": {
        "id": "Pq9QMPQH9zRQ",
        "colab": {
          "base_uri": "https://localhost:8080/",
          "height": 1000
        },
        "outputId": "224415fd-fb78-49c3-aa5f-a91e148b3b62"
      },
      "source": [
        "data = concat_features(_df, features)\n",
        "target = _df['ratingName'].astype('string')\n",
        "\n",
        "result = get_best_classifier(models, classifiers, params, data, target, True)\n",
        "\n",
        "print(\"\\n---------------------------------------------------------------------\",\n",
        "      \"\\n[+] Meilleur classifieur:\", result[0], \n",
        "      \"\\n[+] Accuracy: %0.3f%%\" % to_percent(result[1]),\n",
        "      \"\\n[+] Params: \", result[2])"
      ],
      "execution_count": 296,
      "outputs": [
        {
          "output_type": "stream",
          "text": [
            "# --- Application du classifieur RandomForest\n",
            "[~] Fit réalisé en 1779.648s\n",
            "[~] Prédiction réalisée en 2.617s\n",
            "\n",
            "[+] Accuracy: 80.433%\n",
            "[+] Meilleurs paramètres:  {'clf__criterion': 'entropy', 'clf__min_samples_leaf': 1, 'clf__min_samples_split': 3, 'clf__n_estimators': 300}\n",
            "\n",
            "[~] Matrice de confusion:\n"
          ],
          "name": "stdout"
        },
        {
          "output_type": "display_data",
          "data": {
            "image/png": "[encoded data removed]",
            "text/plain": [
              "<Figure size 432x288 with 2 Axes>"
            ]
          },
          "metadata": {
            "tags": [],
            "needs_background": "light"
          }
        },
        {
          "output_type": "stream",
          "text": [
            "\n",
            "[~] Rapport de classification: \n",
            "               precision    recall  f1-score   support\n",
            "\n",
            "       False       0.84      0.76      0.79      6000\n",
            "        True       0.78      0.85      0.81      6000\n",
            "\n",
            "    accuracy                           0.80     12000\n",
            "   macro avg       0.81      0.80      0.80     12000\n",
            "weighted avg       0.81      0.80      0.80     12000\n",
            "\n",
            "# --- Application du classifieur KNeighbors\n"
          ],
          "name": "stdout"
        },
        {
          "output_type": "stream",
          "text": [
            "/usr/local/lib/python3.7/dist-packages/joblib/externals/loky/process_executor.py:691: UserWarning: A worker stopped while some jobs were given to the executor. This can be caused by a too short worker timeout or by a memory leak.\n",
            "  \"timeout or by a memory leak.\", UserWarning\n"
          ],
          "name": "stderr"
        },
        {
          "output_type": "stream",
          "text": [
            "[~] Fit réalisé en 106.931s\n",
            "[~] Prédiction réalisée en 10.699s\n",
            "\n",
            "[+] Accuracy: 79.500%\n",
            "[+] Meilleurs paramètres:  {'clf__leaf_size': 2, 'clf__n_neighbors': 10, 'clf__weights': 'distance'}\n",
            "\n",
            "[~] Matrice de confusion:\n"
          ],
          "name": "stdout"
        },
        {
          "output_type": "display_data",
          "data": {
            "image/png": "[encoded data removed]",
            "text/plain": [
              "<Figure size 432x288 with 2 Axes>"
            ]
          },
          "metadata": {
            "tags": [],
            "needs_background": "light"
          }
        },
        {
          "output_type": "stream",
          "text": [
            "\n",
            "[~] Rapport de classification: \n",
            "               precision    recall  f1-score   support\n",
            "\n",
            "       False       0.74      0.92      0.82      6000\n",
            "        True       0.89      0.67      0.77      6000\n",
            "\n",
            "    accuracy                           0.80     12000\n",
            "   macro avg       0.81      0.79      0.79     12000\n",
            "weighted avg       0.81      0.80      0.79     12000\n",
            "\n",
            "# --- Application du classifieur SGD\n",
            "[~] Fit réalisé en 102.990s\n",
            "[~] Prédiction réalisée en 1.552s\n",
            "\n",
            "[+] Accuracy: 75.683%\n",
            "[+] Meilleurs paramètres:  {'clf__max_iter': 500, 'clf__penalty': 'elasticnet'}\n",
            "\n",
            "[~] Matrice de confusion:\n"
          ],
          "name": "stdout"
        },
        {
          "output_type": "display_data",
          "data": {
            "image/png": "[encoded data removed]",
            "text/plain": [
              "<Figure size 432x288 with 2 Axes>"
            ]
          },
          "metadata": {
            "tags": [],
            "needs_background": "light"
          }
        },
        {
          "output_type": "stream",
          "text": [
            "\n",
            "[~] Rapport de classification: \n",
            "               precision    recall  f1-score   support\n",
            "\n",
            "       False       0.79      0.70      0.74      6000\n",
            "        True       0.73      0.81      0.77      6000\n",
            "\n",
            "    accuracy                           0.76     12000\n",
            "   macro avg       0.76      0.76      0.76     12000\n",
            "weighted avg       0.76      0.76      0.76     12000\n",
            "\n",
            "# --- Application du classifieur LogisticRegression\n",
            "[~] Fit réalisé en 143.168s\n",
            "[~] Prédiction réalisée en 1.662s\n",
            "\n",
            "[+] Accuracy: 75.575%\n",
            "[+] Meilleurs paramètres:  {'clf__C': 2, 'clf__max_iter': 1000, 'clf__solver': 'lbfgs'}\n",
            "\n",
            "[~] Matrice de confusion:\n"
          ],
          "name": "stdout"
        },
        {
          "output_type": "display_data",
          "data": {
            "image/png": "[encoded data removed]",
            "text/plain": [
              "<Figure size 432x288 with 2 Axes>"
            ]
          },
          "metadata": {
            "tags": [],
            "needs_background": "light"
          }
        },
        {
          "output_type": "stream",
          "text": [
            "\n",
            "[~] Rapport de classification: \n",
            "               precision    recall  f1-score   support\n",
            "\n",
            "       False       0.78      0.71      0.74      6000\n",
            "        True       0.73      0.81      0.77      6000\n",
            "\n",
            "    accuracy                           0.76     12000\n",
            "   macro avg       0.76      0.76      0.76     12000\n",
            "weighted avg       0.76      0.76      0.76     12000\n",
            "\n",
            "\n",
            "--------------------------------------------------------------------- \n",
            "[+] Meilleur classifieur: RandomForest \n",
            "[+] Accuracy: 80.433% \n",
            "[+] Params:  {'clf__criterion': 'entropy', 'clf__min_samples_leaf': 1, 'clf__min_samples_split': 3, 'clf__n_estimators': 300}\n"
          ],
          "name": "stdout"
        }
      ]
    },
    {
      "cell_type": "markdown",
      "metadata": {
        "id": "9zSr5f-ZXFes"
      },
      "source": [
        "Le classifier RandomForest (RF) qui arrive en tête avec un taux de précision avoisinnant les $\\approx80.2\\%$, talonné par LogisticRegression (LR) avec près de $\\approx78.9\\%$. Nous avons donc encore réussi à améliorer notre modèles."
      ]
    },
    {
      "cell_type": "markdown",
      "metadata": {
        "id": "RwBDrQ-3fuio"
      },
      "source": [
        "### Sauvegarde\n",
        "\n",
        "Sauvegardons nos deux meilleurs résultat pour éviter de réexécuter notre benchmark à chaque fois. Nous conservons les deux premiers au cas ou par la suite nous souhaiterions encore une fois les comparer."
      ]
    },
    {
      "cell_type": "code",
      "metadata": {
        "id": "_ceLf0tHCPWe"
      },
      "source": [
        "# --- Save the best accuracy found\n",
        "best_clf_accuracy = result[1]"
      ],
      "execution_count": 302,
      "outputs": []
    },
    {
      "cell_type": "code",
      "metadata": {
        "colab": {
          "base_uri": "https://localhost:8080/"
        },
        "id": "8677An-Xflw7",
        "outputId": "245c2d8c-2dc0-4944-b611-9e43eecebbcd"
      },
      "source": [
        "# --- Best classifier\n",
        "best_clf_name = \"RandomForest\"\n",
        "best_clf = classifiers[best_clf_name]\n",
        "\n",
        "params = {'criterion': 'entropy', \n",
        "          'min_samples_leaf': 1, 'min_samples_split': 3, \n",
        "          'n_estimators': 300}\n",
        "best_clf.set_params(**params)\n",
        "\n",
        "best_clf_pipeline = get_pipeline_improved(best_clf)\n",
        "print(\"[+] Best classifier: \\n\", best_clf)\n",
        "\n",
        "# --- Second best classifier\n",
        "LR_name = \"LogisticRegression\"\n",
        "LR_clf = classifiers[LR_name]\n",
        "\n",
        "params = {'C': 2, 'max_iter': 1000, 'solver': 'lbfgs'}\n",
        "LR_clf.set_params(**params)\n",
        "\n",
        "LR_pipeline = get_pipeline_improved(LR_clf)\n",
        "print(\"[+] Second best classifier: \\n\", LR_clf)"
      ],
      "execution_count": 300,
      "outputs": [
        {
          "output_type": "stream",
          "text": [
            "[+] Best classifier: \n",
            " RandomForestClassifier(bootstrap=True, ccp_alpha=0.0, class_weight=None,\n",
            "                       criterion='entropy', max_depth=None, max_features='auto',\n",
            "                       max_leaf_nodes=None, max_samples=None,\n",
            "                       min_impurity_decrease=0.0, min_impurity_split=None,\n",
            "                       min_samples_leaf=1, min_samples_split=3,\n",
            "                       min_weight_fraction_leaf=0.0, n_estimators=300,\n",
            "                       n_jobs=-1, oob_score=False, random_state=42, verbose=0,\n",
            "                       warm_start=False)\n",
            "[+] Second best classifier: \n",
            " LogisticRegression(C=2, class_weight=None, dual=False, fit_intercept=True,\n",
            "                   intercept_scaling=1, l1_ratio=None, max_iter=1000,\n",
            "                   multi_class='auto', n_jobs=-1, penalty='l2', random_state=42,\n",
            "                   solver='lbfgs', tol=0.0001, verbose=0, warm_start=False)\n"
          ],
          "name": "stdout"
        }
      ]
    },
    {
      "cell_type": "markdown",
      "metadata": {
        "id": "uCIdrXIuBX6I"
      },
      "source": [
        "### Conclusion"
      ]
    },
    {
      "cell_type": "code",
      "metadata": {
        "colab": {
          "base_uri": "https://localhost:8080/",
          "height": 356
        },
        "id": "ox2pXWwqAYvK",
        "outputId": "1bd1a594-4daf-44cc-f8f9-ce560b469c9b"
      },
      "source": [
        "x = [\"before_sampling\", \"after_upsampling\", \n",
        "     \"feature selection\", \n",
        "     \"additionnal data\",\n",
        "     \"after_benchmark\"]\n",
        "\n",
        "y = [to_percent(before_sampling), to_percent(after_upsampling),\n",
        "     to_percent(feature_selection_accuracy),\n",
        "     to_percent(TF_accuracy),\n",
        "     to_percent(best_clf_accuracy)]\n",
        "y = list(map(lambda x: round(x, 2), y))\n",
        "\n",
        "# --- Plot\n",
        "fig = plt.figure(figsize=(10,5))\n",
        "ax = fig.add_subplot(111)\n",
        "plt.plot(x, y,\n",
        "         marker='o', markersize=12,\n",
        "         linewidth=2, color='purple')\n",
        "\n",
        "# --- Cosmetic\n",
        "plt.title(label='Global accuracy evolution', fontsize=20)\n",
        "plt.xlabel('Steps')\n",
        "plt.ylabel('Accuracy (%)')\n",
        "\n",
        "# --- Labels on marker\n",
        "for a,b in zip(x, y): \n",
        "  plt.text(a, b+0.4, str(b)+\"%\", ha=\"center\")\n",
        "\n",
        "# --- Ticks\n",
        "yticks_min = round(np.amin(y))\n",
        "yticks_max = round(np.amax(y))+3\n",
        "plt.yticks(np.arange(yticks_min, yticks_max, 1))\n",
        "\n",
        "plt.show()"
      ],
      "execution_count": 306,
      "outputs": [
        {
          "output_type": "display_data",
          "data": {
            "image/png": "[encoded data removed]",
            "text/plain": [
              "<Figure size 720x360 with 1 Axes>"
            ]
          },
          "metadata": {
            "tags": [],
            "needs_background": "light"
          }
        }
      ]
    },
    {
      "cell_type": "code",
      "metadata": {
        "colab": {
          "base_uri": "https://localhost:8080/"
        },
        "id": "g3wpYb80Gt7d",
        "outputId": "4a2da9c9-fa5f-44a0-820a-4b63779cbce6"
      },
      "source": [
        "print(\"Bénéfices global: +%0.2f%%\" %to_percent(best_clf_accuracy - before_sampling))"
      ],
      "execution_count": null,
      "outputs": [
        {
          "output_type": "stream",
          "text": [
            "Bénéfices global: +8.97%\n"
          ],
          "name": "stdout"
        }
      ]
    },
    {
      "cell_type": "markdown",
      "metadata": {
        "ExecuteTime": {
          "end_time": "2020-04-25T09:17:01.620622Z",
          "start_time": "2020-04-25T09:16:42.793Z"
        },
        "id": "eyYzrQhd4Rks"
      },
      "source": [
        "## Faux vs Mixture"
      ]
    },
    {
      "cell_type": "code",
      "metadata": {
        "colab": {
          "base_uri": "https://localhost:8080/",
          "height": 285
        },
        "id": "T3FNcsiphkht",
        "outputId": "bd8d75e7-5389-4d25-e921-b95375f24e2f"
      },
      "source": [
        "_df = df_FM.drop(unwanted, axis=1)\n",
        "_df.head()"
      ],
      "execution_count": 318,
      "outputs": [
        {
          "output_type": "execute_result",
          "data": {
            "text/html": [
              "<div>\n",
              "<style scoped>\n",
              "    .dataframe tbody tr th:only-of-type {\n",
              "        vertical-align: middle;\n",
              "    }\n",
              "\n",
              "    .dataframe tbody tr th {\n",
              "        vertical-align: top;\n",
              "    }\n",
              "\n",
              "    .dataframe thead th {\n",
              "        text-align: right;\n",
              "    }\n",
              "</style>\n",
              "<table border=\"1\" class=\"dataframe\">\n",
              "  <thead>\n",
              "    <tr style=\"text-align: right;\">\n",
              "      <th></th>\n",
              "      <th>text</th>\n",
              "      <th>author</th>\n",
              "      <th>headline</th>\n",
              "      <th>named_entities_claim</th>\n",
              "      <th>named_entities_article</th>\n",
              "      <th>keywords</th>\n",
              "      <th>source</th>\n",
              "      <th>truthRating</th>\n",
              "      <th>ratingName</th>\n",
              "    </tr>\n",
              "  </thead>\n",
              "  <tbody>\n",
              "    <tr>\n",
              "      <th>0</th>\n",
              "      <td>hillari main extracurricular activ law school ...</td>\n",
              "      <td>chain email</td>\n",
              "      <td>help black panther</td>\n",
              "      <td>aclu alex rackley american civil liberties uni...</td>\n",
              "      <td>black panthers</td>\n",
              "      <td>candidate biography</td>\n",
              "      <td>politifact</td>\n",
              "      <td>1</td>\n",
              "      <td>False</td>\n",
              "    </tr>\n",
              "    <tr>\n",
              "      <th>1</th>\n",
              "      <td>say hillari clinton plan would bring refuge fi...</td>\n",
              "      <td>donald trump</td>\n",
              "      <td>trump say clinton would bring refuge first term</td>\n",
              "      <td>barack obama cbs center global development cou...</td>\n",
              "      <td>hillary clinton</td>\n",
              "      <td>immigration</td>\n",
              "      <td>politifact</td>\n",
              "      <td>1</td>\n",
              "      <td>False</td>\n",
              "    </tr>\n",
              "    <tr>\n",
              "      <th>2</th>\n",
              "      <td>canada suffer major donut shortag short countr...</td>\n",
              "      <td>unknown</td>\n",
              "      <td>canadian face major donut shortag first day ca...</td>\n",
              "      <td>cnn daily bonnet girl scout cookies tim horton...</td>\n",
              "      <td>marijuana</td>\n",
              "      <td>canada marijuana world news daily report</td>\n",
              "      <td>snopes</td>\n",
              "      <td>1</td>\n",
              "      <td>False</td>\n",
              "    </tr>\n",
              "    <tr>\n",
              "      <th>3</th>\n",
              "      <td>mayor ath belgium refus remov pork school cant...</td>\n",
              "      <td>unknown</td>\n",
              "      <td>belgian mayor refus ban pork school cafeteria</td>\n",
              "      <td>belgium islam maryborough victoria muslim queb...</td>\n",
              "      <td></td>\n",
              "      <td>islam</td>\n",
              "      <td>snopes</td>\n",
              "      <td>1</td>\n",
              "      <td>False</td>\n",
              "    </tr>\n",
              "    <tr>\n",
              "      <th>4</th>\n",
              "      <td>say pete gallego cancel plan meet famili sandi...</td>\n",
              "      <td>roland gutierrez</td>\n",
              "      <td>roland gutierrez err say pete gallego cancel m...</td>\n",
              "      <td>mass shooting carlos uresti democrat facebook ...</td>\n",
              "      <td>pete gallego</td>\n",
              "      <td>congress guns</td>\n",
              "      <td>politifact</td>\n",
              "      <td>1</td>\n",
              "      <td>False</td>\n",
              "    </tr>\n",
              "  </tbody>\n",
              "</table>\n",
              "</div>"
            ],
            "text/plain": [
              "                                                text  ... ratingName\n",
              "0  hillari main extracurricular activ law school ...  ...      False\n",
              "1  say hillari clinton plan would bring refuge fi...  ...      False\n",
              "2  canada suffer major donut shortag short countr...  ...      False\n",
              "3  mayor ath belgium refus remov pork school cant...  ...      False\n",
              "4  say pete gallego cancel plan meet famili sandi...  ...      False\n",
              "\n",
              "[5 rows x 9 columns]"
            ]
          },
          "metadata": {
            "tags": []
          },
          "execution_count": 318
        }
      ]
    },
    {
      "cell_type": "code",
      "metadata": {
        "id": "xwG04CPh8B7h"
      },
      "source": [
        "def display_unique_data_profits(df, classifier, features, target):\n",
        "  \n",
        "  witness_acc = apply_classifier(classifier, df['text'], target)\n",
        "  print(\"Witness accuracy: %0.2f%%\" % to_percent(witness_acc))\n",
        "\n",
        "  accuracies = []\n",
        "\n",
        "  # --- get profits\n",
        "  for feature in features:\n",
        "    actual_features = ['text', feature]\n",
        "    data = concat_features(_df, actual_features)\n",
        "    accuracy = apply_classifier(classifier, data, target)\n",
        "    print(\"Features:\", actual_features, \n",
        "          \"| Accuracy: %0.2f%%\" % to_percent(accuracy))\n",
        "    accuracies.append(accuracy)\n",
        "    \n",
        "  profits = [to_percent(accuracy - witness_acc) for accuracy in accuracies]\n",
        "  \n",
        "  # --- store and order in a dataframe\n",
        "  df_profits = pandas.DataFrame({\n",
        "    'features': features, \n",
        "    'profits': profits})\n",
        "  df_profits = df_profits.sort_values(by='profits', ascending=False)\n",
        "\n",
        "  # --- display them\n",
        "  display_barplot(df_profits, \n",
        "                  \"Profits of each feature on first round\", \n",
        "                  'profits', \n",
        "                  'Profits (%)',\n",
        "                  'features', \n",
        "                  'Features', \n",
        "                  'h')"
      ],
      "execution_count": 319,
      "outputs": []
    },
    {
      "cell_type": "code",
      "metadata": {
        "colab": {
          "base_uri": "https://localhost:8080/",
          "height": 486
        },
        "id": "JyodppCw8DO4",
        "outputId": "d1fc53e6-46a5-4332-c189-31af0da11e30"
      },
      "source": [
        "additionnal_features = list(_df.columns)[1:-2]\n",
        "target = _df['ratingName'].astype('string')\n",
        "display_unique_data_profits(_df, best_clf_pipeline, additionnal_features, target)"
      ],
      "execution_count": 320,
      "outputs": [
        {
          "output_type": "stream",
          "text": [
            "Witness accuracy: 66.58%\n",
            "Features: ['text', 'author'] | Accuracy: 72.45%\n",
            "Features: ['text', 'headline'] | Accuracy: 70.76%\n",
            "Features: ['text', 'named_entities_claim'] | Accuracy: 73.83%\n",
            "Features: ['text', 'named_entities_article'] | Accuracy: 66.30%\n",
            "Features: ['text', 'keywords'] | Accuracy: 71.32%\n",
            "Features: ['text', 'source'] | Accuracy: 70.41%\n"
          ],
          "name": "stdout"
        },
        {
          "output_type": "display_data",
          "data": {
            "image/png": "[encoded data removed]",
            "text/plain": [
              "<Figure size 1080x360 with 1 Axes>"
            ]
          },
          "metadata": {
            "tags": [],
            "needs_background": "light"
          }
        }
      ]
    },
    {
      "cell_type": "code",
      "metadata": {
        "colab": {
          "base_uri": "https://localhost:8080/",
          "height": 486
        },
        "id": "PAEsQyUx0RRW",
        "outputId": "45e7785f-a99b-4e16-d24c-a6331a0218cc"
      },
      "source": [
        "display_unique_data_profits(_df, LR_pipeline, additionnal_features, target)"
      ],
      "execution_count": 321,
      "outputs": [
        {
          "output_type": "stream",
          "text": [
            "Witness accuracy: 68.60%\n",
            "Features: ['text', 'author'] | Accuracy: 72.80%\n",
            "Features: ['text', 'headline'] | Accuracy: 70.97%\n",
            "Features: ['text', 'named_entities_claim'] | Accuracy: 73.32%\n",
            "Features: ['text', 'named_entities_article'] | Accuracy: 68.76%\n",
            "Features: ['text', 'keywords'] | Accuracy: 72.19%\n",
            "Features: ['text', 'source'] | Accuracy: 70.82%\n"
          ],
          "name": "stdout"
        },
        {
          "output_type": "display_data",
          "data": {
            "image/png": "[encoded data removed]",
            "text/plain": [
              "<Figure size 1080x360 with 1 Axes>"
            ]
          },
          "metadata": {
            "tags": [],
            "needs_background": "light"
          }
        }
      ]
    },
    {
      "cell_type": "markdown",
      "metadata": {
        "id": "fWpsNO27-4O-"
      },
      "source": [
        "Même constat que pour True vs False"
      ]
    },
    {
      "cell_type": "code",
      "metadata": {
        "id": "Gcf5I7kGytVC"
      },
      "source": [
        "features = ['text', 'named_entities_claim', 'headline', 'keywords', 'source']"
      ],
      "execution_count": 322,
      "outputs": []
    },
    {
      "cell_type": "code",
      "metadata": {
        "colab": {
          "base_uri": "https://localhost:8080/",
          "height": 592
        },
        "id": "hgLzp6Wz2Hn_",
        "outputId": "66239b2b-5e3f-44c5-cbf8-4eb62b54a0d1"
      },
      "source": [
        "data = concat_features(_df, features)\n",
        "FM_accuracy = apply_classifier(best_clf_pipeline, data, target, True)"
      ],
      "execution_count": 323,
      "outputs": [
        {
          "output_type": "stream",
          "text": [
            "# --- Application du classifieur \n",
            "[~] Fit réalisé en 19.261s\n",
            "[~] Prédiction réalisée en 2.722s\n",
            "\n",
            "[+] Accuracy: 75.492%\n",
            "\n",
            "[~] Matrice de confusion:\n"
          ],
          "name": "stdout"
        },
        {
          "output_type": "display_data",
          "data": {
            "image/png": "[encoded data removed]",
            "text/plain": [
              "<Figure size 432x288 with 2 Axes>"
            ]
          },
          "metadata": {
            "tags": [],
            "needs_background": "light"
          }
        },
        {
          "output_type": "stream",
          "text": [
            "\n",
            "[~] Rapport de classification: \n",
            "               precision    recall  f1-score   support\n",
            "\n",
            "       False       0.80      0.68      0.73      6000\n",
            "     MIXTURE       0.72      0.83      0.77      6000\n",
            "\n",
            "    accuracy                           0.75     12000\n",
            "   macro avg       0.76      0.75      0.75     12000\n",
            "weighted avg       0.76      0.75      0.75     12000\n",
            "\n"
          ],
          "name": "stdout"
        }
      ]
    },
    {
      "cell_type": "markdown",
      "metadata": {
        "id": "lOB96FxDhhBY"
      },
      "source": [
        "## True vs False vs Mixture"
      ]
    },
    {
      "cell_type": "code",
      "metadata": {
        "colab": {
          "base_uri": "https://localhost:8080/",
          "height": 285
        },
        "id": "7ZJ2eInImhcN",
        "outputId": "83d6ca80-e626-47a7-e58b-b568d8a4fe3a"
      },
      "source": [
        "_df = df_TFM_UP.drop(unwanted, axis=1)\n",
        "_df.head()"
      ],
      "execution_count": 324,
      "outputs": [
        {
          "output_type": "execute_result",
          "data": {
            "text/html": [
              "<div>\n",
              "<style scoped>\n",
              "    .dataframe tbody tr th:only-of-type {\n",
              "        vertical-align: middle;\n",
              "    }\n",
              "\n",
              "    .dataframe tbody tr th {\n",
              "        vertical-align: top;\n",
              "    }\n",
              "\n",
              "    .dataframe thead th {\n",
              "        text-align: right;\n",
              "    }\n",
              "</style>\n",
              "<table border=\"1\" class=\"dataframe\">\n",
              "  <thead>\n",
              "    <tr style=\"text-align: right;\">\n",
              "      <th></th>\n",
              "      <th>text</th>\n",
              "      <th>author</th>\n",
              "      <th>headline</th>\n",
              "      <th>named_entities_claim</th>\n",
              "      <th>named_entities_article</th>\n",
              "      <th>keywords</th>\n",
              "      <th>source</th>\n",
              "      <th>truthRating</th>\n",
              "      <th>ratingName</th>\n",
              "    </tr>\n",
              "  </thead>\n",
              "  <tbody>\n",
              "    <tr>\n",
              "      <th>0</th>\n",
              "      <td>hillari main extracurricular activ law school ...</td>\n",
              "      <td>chain email</td>\n",
              "      <td>help black panther</td>\n",
              "      <td>aclu alex rackley american civil liberties uni...</td>\n",
              "      <td>black panthers</td>\n",
              "      <td>candidate biography</td>\n",
              "      <td>politifact</td>\n",
              "      <td>1</td>\n",
              "      <td>False</td>\n",
              "    </tr>\n",
              "    <tr>\n",
              "      <th>1</th>\n",
              "      <td>say hillari clinton plan would bring refuge fi...</td>\n",
              "      <td>donald trump</td>\n",
              "      <td>trump say clinton would bring refuge first term</td>\n",
              "      <td>barack obama cbs center global development cou...</td>\n",
              "      <td>hillary clinton</td>\n",
              "      <td>immigration</td>\n",
              "      <td>politifact</td>\n",
              "      <td>1</td>\n",
              "      <td>False</td>\n",
              "    </tr>\n",
              "    <tr>\n",
              "      <th>2</th>\n",
              "      <td>canada suffer major donut shortag short countr...</td>\n",
              "      <td>unknown</td>\n",
              "      <td>canadian face major donut shortag first day ca...</td>\n",
              "      <td>cnn daily bonnet girl scout cookies tim horton...</td>\n",
              "      <td>marijuana</td>\n",
              "      <td>canada marijuana world news daily report</td>\n",
              "      <td>snopes</td>\n",
              "      <td>1</td>\n",
              "      <td>False</td>\n",
              "    </tr>\n",
              "    <tr>\n",
              "      <th>3</th>\n",
              "      <td>mayor ath belgium refus remov pork school cant...</td>\n",
              "      <td>unknown</td>\n",
              "      <td>belgian mayor refus ban pork school cafeteria</td>\n",
              "      <td>belgium islam maryborough victoria muslim queb...</td>\n",
              "      <td></td>\n",
              "      <td>islam</td>\n",
              "      <td>snopes</td>\n",
              "      <td>1</td>\n",
              "      <td>False</td>\n",
              "    </tr>\n",
              "    <tr>\n",
              "      <th>4</th>\n",
              "      <td>say pete gallego cancel plan meet famili sandi...</td>\n",
              "      <td>roland gutierrez</td>\n",
              "      <td>roland gutierrez err say pete gallego cancel m...</td>\n",
              "      <td>mass shooting carlos uresti democrat facebook ...</td>\n",
              "      <td>pete gallego</td>\n",
              "      <td>congress guns</td>\n",
              "      <td>politifact</td>\n",
              "      <td>1</td>\n",
              "      <td>False</td>\n",
              "    </tr>\n",
              "  </tbody>\n",
              "</table>\n",
              "</div>"
            ],
            "text/plain": [
              "                                                text  ... ratingName\n",
              "0  hillari main extracurricular activ law school ...  ...      False\n",
              "1  say hillari clinton plan would bring refuge fi...  ...      False\n",
              "2  canada suffer major donut shortag short countr...  ...      False\n",
              "3  mayor ath belgium refus remov pork school cant...  ...      False\n",
              "4  say pete gallego cancel plan meet famili sandi...  ...      False\n",
              "\n",
              "[5 rows x 9 columns]"
            ]
          },
          "metadata": {
            "tags": []
          },
          "execution_count": 324
        }
      ]
    },
    {
      "cell_type": "code",
      "metadata": {
        "id": "MABOrKqi2bgZ"
      },
      "source": [
        "def get_pipeline_improved_bis(classifier):\n",
        "  \"\"\"\n",
        "  Get the pipeline for a classifier with an additional variance threshold\n",
        "  @param classifier, the classifier to use.\n",
        "  \"\"\"\n",
        "  _SFM = SelectFromModel(best_clf)\n",
        "  return Pipeline([('tfidf', TFIDF_VECT),\n",
        "                   ('feature_selection', _SFM),\n",
        "                   ('clf', classifier)])"
      ],
      "execution_count": 332,
      "outputs": []
    },
    {
      "cell_type": "code",
      "metadata": {
        "colab": {
          "base_uri": "https://localhost:8080/",
          "height": 486
        },
        "id": "Rz1dazfU6h63",
        "outputId": "5487160e-e5f2-45f5-d0f8-04b7e27f5842"
      },
      "source": [
        "_pipeline = get_pipeline_improved_bis(best_clf)\n",
        "target = _df['ratingName'].astype('string')\n",
        "display_unique_data_profits(_df, _pipeline, additionnal_features, target)"
      ],
      "execution_count": 333,
      "outputs": [
        {
          "output_type": "stream",
          "text": [
            "Witness accuracy: 61.57%\n",
            "Features: ['text', 'author'] | Accuracy: 65.91%\n",
            "Features: ['text', 'headline'] | Accuracy: 65.31%\n",
            "Features: ['text', 'named_entities_claim'] | Accuracy: 67.89%\n",
            "Features: ['text', 'named_entities_article'] | Accuracy: 61.84%\n",
            "Features: ['text', 'keywords'] | Accuracy: 65.67%\n",
            "Features: ['text', 'source'] | Accuracy: 64.68%\n"
          ],
          "name": "stdout"
        },
        {
          "output_type": "display_data",
          "data": {
            "image/png": "[encoded data removed]",
            "text/plain": [
              "<Figure size 1080x360 with 1 Axes>"
            ]
          },
          "metadata": {
            "tags": [],
            "needs_background": "light"
          }
        }
      ]
    },
    {
      "cell_type": "code",
      "metadata": {
        "colab": {
          "base_uri": "https://localhost:8080/",
          "height": 610
        },
        "id": "JZ0OH53EmkeZ",
        "outputId": "0ab01390-9787-45e2-a625-4b548a5bce3d"
      },
      "source": [
        "features = ['text', 'named_entities_claim', 'headline', 'keywords', 'source']\n",
        "data = concat_features(_df, features)\n",
        "TFM_accuracy = apply_classifier(_pipeline, data, target, True)"
      ],
      "execution_count": 335,
      "outputs": [
        {
          "output_type": "stream",
          "text": [
            "# --- Application du classifieur \n",
            "[~] Fit réalisé en 90.107s\n",
            "[~] Prédiction réalisée en 4.022s\n",
            "\n",
            "[+] Accuracy: 69.850%\n",
            "\n",
            "[~] Matrice de confusion:\n"
          ],
          "name": "stdout"
        },
        {
          "output_type": "display_data",
          "data": {
            "image/png": "[encoded data removed]",
            "text/plain": [
              "<Figure size 432x288 with 2 Axes>"
            ]
          },
          "metadata": {
            "tags": [],
            "needs_background": "light"
          }
        },
        {
          "output_type": "stream",
          "text": [
            "\n",
            "[~] Rapport de classification: \n",
            "               precision    recall  f1-score   support\n",
            "\n",
            "       False       0.70      0.61      0.65      6000\n",
            "     MIXTURE       0.61      0.80      0.69      6000\n",
            "        True       0.83      0.69      0.75      6000\n",
            "\n",
            "    accuracy                           0.70     18000\n",
            "   macro avg       0.72      0.70      0.70     18000\n",
            "weighted avg       0.72      0.70      0.70     18000\n",
            "\n"
          ],
          "name": "stdout"
        }
      ]
    }
  ]
}